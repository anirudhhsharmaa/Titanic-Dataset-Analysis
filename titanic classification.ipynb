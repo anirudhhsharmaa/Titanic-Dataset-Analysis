{
 "cells": [
  {
   "cell_type": "code",
   "execution_count": 4,
   "id": "babe7228-ff85-4387-b49f-e25cb11cfa31",
   "metadata": {},
   "outputs": [
    {
     "name": "stdout",
     "output_type": "stream",
     "text": [
      "Requirement already satisfied: matplot in c:\\users\\ilove\\appdata\\local\\programs\\python\\python311\\lib\\site-packages (0.1.9)\n",
      "Requirement already satisfied: pyloco>=0.0.134 in c:\\users\\ilove\\appdata\\local\\programs\\python\\python311\\lib\\site-packages (from matplot) (0.0.139)\n",
      "Requirement already satisfied: matplotlib>=3.1.1 in c:\\users\\ilove\\appdata\\local\\programs\\python\\python311\\lib\\site-packages (from matplot) (3.7.3)\n",
      "Requirement already satisfied: contourpy>=1.0.1 in c:\\users\\ilove\\appdata\\local\\programs\\python\\python311\\lib\\site-packages (from matplotlib>=3.1.1->matplot) (1.1.0)\n",
      "Requirement already satisfied: cycler>=0.10 in c:\\users\\ilove\\appdata\\local\\programs\\python\\python311\\lib\\site-packages (from matplotlib>=3.1.1->matplot) (0.11.0)\n",
      "Requirement already satisfied: fonttools>=4.22.0 in c:\\users\\ilove\\appdata\\local\\programs\\python\\python311\\lib\\site-packages (from matplotlib>=3.1.1->matplot) (4.42.1)\n",
      "Requirement already satisfied: kiwisolver>=1.0.1 in c:\\users\\ilove\\appdata\\local\\programs\\python\\python311\\lib\\site-packages (from matplotlib>=3.1.1->matplot) (1.4.5)\n",
      "Requirement already satisfied: numpy<2,>=1.20 in c:\\users\\ilove\\appdata\\local\\programs\\python\\python311\\lib\\site-packages (from matplotlib>=3.1.1->matplot) (1.25.2)\n",
      "Requirement already satisfied: packaging>=20.0 in c:\\users\\ilove\\appdata\\local\\programs\\python\\python311\\lib\\site-packages (from matplotlib>=3.1.1->matplot) (23.1)\n",
      "Requirement already satisfied: pillow>=6.2.0 in c:\\users\\ilove\\appdata\\local\\programs\\python\\python311\\lib\\site-packages (from matplotlib>=3.1.1->matplot) (10.0.0)\n",
      "Requirement already satisfied: pyparsing>=2.3.1 in c:\\users\\ilove\\appdata\\local\\programs\\python\\python311\\lib\\site-packages (from matplotlib>=3.1.1->matplot) (3.1.1)\n",
      "Requirement already satisfied: python-dateutil>=2.7 in c:\\users\\ilove\\appdata\\local\\programs\\python\\python311\\lib\\site-packages (from matplotlib>=3.1.1->matplot) (2.8.2)\n",
      "Requirement already satisfied: ushlex in c:\\users\\ilove\\appdata\\local\\programs\\python\\python311\\lib\\site-packages (from pyloco>=0.0.134->matplot) (0.99.1)\n",
      "Requirement already satisfied: websocket-client in c:\\users\\ilove\\appdata\\local\\programs\\python\\python311\\lib\\site-packages (from pyloco>=0.0.134->matplot) (1.6.2)\n",
      "Requirement already satisfied: twine in c:\\users\\ilove\\appdata\\local\\programs\\python\\python311\\lib\\site-packages (from pyloco>=0.0.134->matplot) (4.0.2)\n",
      "Requirement already satisfied: typing in c:\\users\\ilove\\appdata\\local\\programs\\python\\python311\\lib\\site-packages (from pyloco>=0.0.134->matplot) (3.7.4.3)\n",
      "Requirement already satisfied: SimpleWebSocketServer in c:\\users\\ilove\\appdata\\local\\programs\\python\\python311\\lib\\site-packages (from pyloco>=0.0.134->matplot) (0.1.2)\n",
      "Requirement already satisfied: six>=1.5 in c:\\users\\ilove\\appdata\\local\\programs\\python\\python311\\lib\\site-packages (from python-dateutil>=2.7->matplotlib>=3.1.1->matplot) (1.16.0)\n",
      "Requirement already satisfied: pkginfo>=1.8.1 in c:\\users\\ilove\\appdata\\local\\programs\\python\\python311\\lib\\site-packages (from twine->pyloco>=0.0.134->matplot) (1.9.6)\n",
      "Requirement already satisfied: readme-renderer>=35.0 in c:\\users\\ilove\\appdata\\local\\programs\\python\\python311\\lib\\site-packages (from twine->pyloco>=0.0.134->matplot) (42.0)\n",
      "Requirement already satisfied: requests>=2.20 in c:\\users\\ilove\\appdata\\local\\programs\\python\\python311\\lib\\site-packages (from twine->pyloco>=0.0.134->matplot) (2.31.0)\n",
      "Requirement already satisfied: requests-toolbelt!=0.9.0,>=0.8.0 in c:\\users\\ilove\\appdata\\local\\programs\\python\\python311\\lib\\site-packages (from twine->pyloco>=0.0.134->matplot) (1.0.0)\n",
      "Requirement already satisfied: urllib3>=1.26.0 in c:\\users\\ilove\\appdata\\local\\programs\\python\\python311\\lib\\site-packages (from twine->pyloco>=0.0.134->matplot) (2.0.4)\n",
      "Requirement already satisfied: importlib-metadata>=3.6 in c:\\users\\ilove\\appdata\\local\\programs\\python\\python311\\lib\\site-packages (from twine->pyloco>=0.0.134->matplot) (6.8.0)\n",
      "Requirement already satisfied: keyring>=15.1 in c:\\users\\ilove\\appdata\\local\\programs\\python\\python311\\lib\\site-packages (from twine->pyloco>=0.0.134->matplot) (24.2.0)\n",
      "Requirement already satisfied: rfc3986>=1.4.0 in c:\\users\\ilove\\appdata\\local\\programs\\python\\python311\\lib\\site-packages (from twine->pyloco>=0.0.134->matplot) (2.0.0)\n",
      "Requirement already satisfied: rich>=12.0.0 in c:\\users\\ilove\\appdata\\local\\programs\\python\\python311\\lib\\site-packages (from twine->pyloco>=0.0.134->matplot) (13.5.2)\n",
      "Requirement already satisfied: zipp>=0.5 in c:\\users\\ilove\\appdata\\local\\programs\\python\\python311\\lib\\site-packages (from importlib-metadata>=3.6->twine->pyloco>=0.0.134->matplot) (3.16.2)\n",
      "Requirement already satisfied: jaraco.classes in c:\\users\\ilove\\appdata\\local\\programs\\python\\python311\\lib\\site-packages (from keyring>=15.1->twine->pyloco>=0.0.134->matplot) (3.3.0)\n",
      "Requirement already satisfied: pywin32-ctypes>=0.2.0 in c:\\users\\ilove\\appdata\\local\\programs\\python\\python311\\lib\\site-packages (from keyring>=15.1->twine->pyloco>=0.0.134->matplot) (0.2.2)\n",
      "Requirement already satisfied: nh3>=0.2.14 in c:\\users\\ilove\\appdata\\local\\programs\\python\\python311\\lib\\site-packages (from readme-renderer>=35.0->twine->pyloco>=0.0.134->matplot) (0.2.14)\n",
      "Requirement already satisfied: docutils>=0.13.1 in c:\\users\\ilove\\appdata\\local\\programs\\python\\python311\\lib\\site-packages (from readme-renderer>=35.0->twine->pyloco>=0.0.134->matplot) (0.20.1)\n",
      "Requirement already satisfied: Pygments>=2.5.1 in c:\\users\\ilove\\appdata\\local\\programs\\python\\python311\\lib\\site-packages (from readme-renderer>=35.0->twine->pyloco>=0.0.134->matplot) (2.16.1)\n",
      "Requirement already satisfied: charset-normalizer<4,>=2 in c:\\users\\ilove\\appdata\\local\\programs\\python\\python311\\lib\\site-packages (from requests>=2.20->twine->pyloco>=0.0.134->matplot) (3.2.0)\n",
      "Requirement already satisfied: idna<4,>=2.5 in c:\\users\\ilove\\appdata\\local\\programs\\python\\python311\\lib\\site-packages (from requests>=2.20->twine->pyloco>=0.0.134->matplot) (3.4)\n",
      "Requirement already satisfied: certifi>=2017.4.17 in c:\\users\\ilove\\appdata\\local\\programs\\python\\python311\\lib\\site-packages (from requests>=2.20->twine->pyloco>=0.0.134->matplot) (2023.7.22)\n",
      "Requirement already satisfied: markdown-it-py>=2.2.0 in c:\\users\\ilove\\appdata\\local\\programs\\python\\python311\\lib\\site-packages (from rich>=12.0.0->twine->pyloco>=0.0.134->matplot) (3.0.0)\n",
      "Requirement already satisfied: mdurl~=0.1 in c:\\users\\ilove\\appdata\\local\\programs\\python\\python311\\lib\\site-packages (from markdown-it-py>=2.2.0->rich>=12.0.0->twine->pyloco>=0.0.134->matplot) (0.1.2)\n",
      "Requirement already satisfied: more-itertools in c:\\users\\ilove\\appdata\\local\\programs\\python\\python311\\lib\\site-packages (from jaraco.classes->keyring>=15.1->twine->pyloco>=0.0.134->matplot) (10.1.0)\n"
     ]
    }
   ],
   "source": [
    "!pip install matplot"
   ]
  },
  {
   "cell_type": "code",
   "execution_count": 92,
   "id": "064659e7-4338-4b8d-b41d-00998a06491e",
   "metadata": {},
   "outputs": [
    {
     "name": "stdout",
     "output_type": "stream",
     "text": [
      "Collecting scikit-learn\n",
      "  Obtaining dependency information for scikit-learn from https://files.pythonhosted.org/packages/77/85/bff3a1e818ec6aa3dd466ff4f4b0a727db9fdb41f2e849747ad902ddbe95/scikit_learn-1.3.0-cp311-cp311-win_amd64.whl.metadata\n",
      "  Downloading scikit_learn-1.3.0-cp311-cp311-win_amd64.whl.metadata (11 kB)\n",
      "Requirement already satisfied: numpy>=1.17.3 in c:\\users\\ilove\\appdata\\local\\programs\\python\\python311\\lib\\site-packages (from scikit-learn) (1.25.2)\n",
      "Requirement already satisfied: scipy>=1.5.0 in c:\\users\\ilove\\appdata\\local\\programs\\python\\python311\\lib\\site-packages (from scikit-learn) (1.11.2)\n",
      "Requirement already satisfied: joblib>=1.1.1 in c:\\users\\ilove\\appdata\\local\\programs\\python\\python311\\lib\\site-packages (from scikit-learn) (1.1.1)\n",
      "Collecting threadpoolctl>=2.0.0 (from scikit-learn)\n",
      "  Obtaining dependency information for threadpoolctl>=2.0.0 from https://files.pythonhosted.org/packages/81/12/fd4dea011af9d69e1cad05c75f3f7202cdcbeac9b712eea58ca779a72865/threadpoolctl-3.2.0-py3-none-any.whl.metadata\n",
      "  Downloading threadpoolctl-3.2.0-py3-none-any.whl.metadata (10.0 kB)\n",
      "Downloading scikit_learn-1.3.0-cp311-cp311-win_amd64.whl (9.2 MB)\n",
      "   ---------------------------------------- 0.0/9.2 MB ? eta -:--:--\n",
      "    --------------------------------------- 0.2/9.2 MB 3.5 MB/s eta 0:00:03\n",
      "   -- ------------------------------------- 0.5/9.2 MB 5.7 MB/s eta 0:00:02\n",
      "   ---- ----------------------------------- 0.9/9.2 MB 6.6 MB/s eta 0:00:02\n",
      "   ------ --------------------------------- 1.6/9.2 MB 8.4 MB/s eta 0:00:01\n",
      "   -------- ------------------------------- 2.0/9.2 MB 8.3 MB/s eta 0:00:01\n",
      "   ---------- ----------------------------- 2.5/9.2 MB 8.9 MB/s eta 0:00:01\n",
      "   ------------- -------------------------- 3.1/9.2 MB 9.3 MB/s eta 0:00:01\n",
      "   -------------- ------------------------- 3.3/9.2 MB 8.9 MB/s eta 0:00:01\n",
      "   ----------------- ---------------------- 4.0/9.2 MB 9.0 MB/s eta 0:00:01\n",
      "   ------------------- -------------------- 4.4/9.2 MB 9.1 MB/s eta 0:00:01\n",
      "   -------------------- ------------------- 4.8/9.2 MB 9.3 MB/s eta 0:00:01\n",
      "   ---------------------- ----------------- 5.2/9.2 MB 8.9 MB/s eta 0:00:01\n",
      "   ------------------------ --------------- 5.6/9.2 MB 9.1 MB/s eta 0:00:01\n",
      "   -------------------------- ------------- 6.0/9.2 MB 8.9 MB/s eta 0:00:01\n",
      "   ---------------------------- ----------- 6.5/9.2 MB 9.2 MB/s eta 0:00:01\n",
      "   ----------------------------- ---------- 6.9/9.2 MB 9.2 MB/s eta 0:00:01\n",
      "   -------------------------------- ------- 7.5/9.2 MB 9.2 MB/s eta 0:00:01\n",
      "   ---------------------------------- ----- 7.8/9.2 MB 9.1 MB/s eta 0:00:01\n",
      "   ----------------------------------- ---- 8.3/9.2 MB 9.1 MB/s eta 0:00:01\n",
      "   -------------------------------------- - 8.8/9.2 MB 9.3 MB/s eta 0:00:01\n",
      "   ---------------------------------------  9.0/9.2 MB 9.2 MB/s eta 0:00:01\n",
      "   ---------------------------------------  9.2/9.2 MB 9.0 MB/s eta 0:00:01\n",
      "   ---------------------------------------- 9.2/9.2 MB 8.4 MB/s eta 0:00:00\n",
      "Downloading threadpoolctl-3.2.0-py3-none-any.whl (15 kB)\n",
      "Installing collected packages: threadpoolctl, scikit-learn\n",
      "Successfully installed scikit-learn-1.3.0 threadpoolctl-3.2.0\n"
     ]
    }
   ],
   "source": [
    "!pip install scikit-learn"
   ]
  },
  {
   "cell_type": "code",
   "execution_count": 1,
   "id": "4605d1e9-34b7-4468-aa88-074adb18b6d7",
   "metadata": {},
   "outputs": [],
   "source": [
    "import pandas as pd\n",
    "import numpy as np\n",
    "import seaborn as sns\n",
    "import matplotlib.pyplot as plt\n",
    "import warnings\n",
    "warnings.filterwarnings('ignore')\n",
    "%matplotlib inline"
   ]
  },
  {
   "cell_type": "markdown",
   "id": "191c453c-6fd4-4e65-b19d-32284e7ed5e1",
   "metadata": {},
   "source": [
    "# loading the dataset"
   ]
  },
  {
   "cell_type": "code",
   "execution_count": 2,
   "id": "f7b4b8f3-616a-41a4-8ae2-a2ce1642dfd3",
   "metadata": {},
   "outputs": [],
   "source": [
    "train = pd.read_csv('train.csv')\n"
   ]
  },
  {
   "cell_type": "code",
   "execution_count": 3,
   "id": "13fd7376-d9e2-46e6-b07e-e809538137be",
   "metadata": {},
   "outputs": [],
   "source": [
    "test = pd.read_csv('test.csv')"
   ]
  },
  {
   "cell_type": "code",
   "execution_count": 4,
   "id": "52e3d6b3-870c-419c-a178-709e2f1bc83e",
   "metadata": {},
   "outputs": [
    {
     "data": {
      "text/html": [
       "<div>\n",
       "<style scoped>\n",
       "    .dataframe tbody tr th:only-of-type {\n",
       "        vertical-align: middle;\n",
       "    }\n",
       "\n",
       "    .dataframe tbody tr th {\n",
       "        vertical-align: top;\n",
       "    }\n",
       "\n",
       "    .dataframe thead th {\n",
       "        text-align: right;\n",
       "    }\n",
       "</style>\n",
       "<table border=\"1\" class=\"dataframe\">\n",
       "  <thead>\n",
       "    <tr style=\"text-align: right;\">\n",
       "      <th></th>\n",
       "      <th>PassengerId</th>\n",
       "      <th>Survived</th>\n",
       "      <th>Pclass</th>\n",
       "      <th>Name</th>\n",
       "      <th>Sex</th>\n",
       "      <th>Age</th>\n",
       "      <th>SibSp</th>\n",
       "      <th>Parch</th>\n",
       "      <th>Ticket</th>\n",
       "      <th>Fare</th>\n",
       "      <th>Cabin</th>\n",
       "      <th>Embarked</th>\n",
       "    </tr>\n",
       "  </thead>\n",
       "  <tbody>\n",
       "    <tr>\n",
       "      <th>0</th>\n",
       "      <td>1</td>\n",
       "      <td>0</td>\n",
       "      <td>3</td>\n",
       "      <td>Braund, Mr. Owen Harris</td>\n",
       "      <td>male</td>\n",
       "      <td>22.0</td>\n",
       "      <td>1</td>\n",
       "      <td>0</td>\n",
       "      <td>A/5 21171</td>\n",
       "      <td>7.2500</td>\n",
       "      <td>NaN</td>\n",
       "      <td>S</td>\n",
       "    </tr>\n",
       "    <tr>\n",
       "      <th>1</th>\n",
       "      <td>2</td>\n",
       "      <td>1</td>\n",
       "      <td>1</td>\n",
       "      <td>Cumings, Mrs. John Bradley (Florence Briggs Th...</td>\n",
       "      <td>female</td>\n",
       "      <td>38.0</td>\n",
       "      <td>1</td>\n",
       "      <td>0</td>\n",
       "      <td>PC 17599</td>\n",
       "      <td>71.2833</td>\n",
       "      <td>C85</td>\n",
       "      <td>C</td>\n",
       "    </tr>\n",
       "    <tr>\n",
       "      <th>2</th>\n",
       "      <td>3</td>\n",
       "      <td>1</td>\n",
       "      <td>3</td>\n",
       "      <td>Heikkinen, Miss. Laina</td>\n",
       "      <td>female</td>\n",
       "      <td>26.0</td>\n",
       "      <td>0</td>\n",
       "      <td>0</td>\n",
       "      <td>STON/O2. 3101282</td>\n",
       "      <td>7.9250</td>\n",
       "      <td>NaN</td>\n",
       "      <td>S</td>\n",
       "    </tr>\n",
       "    <tr>\n",
       "      <th>3</th>\n",
       "      <td>4</td>\n",
       "      <td>1</td>\n",
       "      <td>1</td>\n",
       "      <td>Futrelle, Mrs. Jacques Heath (Lily May Peel)</td>\n",
       "      <td>female</td>\n",
       "      <td>35.0</td>\n",
       "      <td>1</td>\n",
       "      <td>0</td>\n",
       "      <td>113803</td>\n",
       "      <td>53.1000</td>\n",
       "      <td>C123</td>\n",
       "      <td>S</td>\n",
       "    </tr>\n",
       "    <tr>\n",
       "      <th>4</th>\n",
       "      <td>5</td>\n",
       "      <td>0</td>\n",
       "      <td>3</td>\n",
       "      <td>Allen, Mr. William Henry</td>\n",
       "      <td>male</td>\n",
       "      <td>35.0</td>\n",
       "      <td>0</td>\n",
       "      <td>0</td>\n",
       "      <td>373450</td>\n",
       "      <td>8.0500</td>\n",
       "      <td>NaN</td>\n",
       "      <td>S</td>\n",
       "    </tr>\n",
       "  </tbody>\n",
       "</table>\n",
       "</div>"
      ],
      "text/plain": [
       "   PassengerId  Survived  Pclass  \\\n",
       "0            1         0       3   \n",
       "1            2         1       1   \n",
       "2            3         1       3   \n",
       "3            4         1       1   \n",
       "4            5         0       3   \n",
       "\n",
       "                                                Name     Sex   Age  SibSp  \\\n",
       "0                            Braund, Mr. Owen Harris    male  22.0      1   \n",
       "1  Cumings, Mrs. John Bradley (Florence Briggs Th...  female  38.0      1   \n",
       "2                             Heikkinen, Miss. Laina  female  26.0      0   \n",
       "3       Futrelle, Mrs. Jacques Heath (Lily May Peel)  female  35.0      1   \n",
       "4                           Allen, Mr. William Henry    male  35.0      0   \n",
       "\n",
       "   Parch            Ticket     Fare Cabin Embarked  \n",
       "0      0         A/5 21171   7.2500   NaN        S  \n",
       "1      0          PC 17599  71.2833   C85        C  \n",
       "2      0  STON/O2. 3101282   7.9250   NaN        S  \n",
       "3      0            113803  53.1000  C123        S  \n",
       "4      0            373450   8.0500   NaN        S  "
      ]
     },
     "execution_count": 4,
     "metadata": {},
     "output_type": "execute_result"
    }
   ],
   "source": [
    "train.head()"
   ]
  },
  {
   "cell_type": "code",
   "execution_count": 5,
   "id": "756ceb01-309c-4c38-bd2d-99987abfc64d",
   "metadata": {},
   "outputs": [
    {
     "data": {
      "text/html": [
       "<div>\n",
       "<style scoped>\n",
       "    .dataframe tbody tr th:only-of-type {\n",
       "        vertical-align: middle;\n",
       "    }\n",
       "\n",
       "    .dataframe tbody tr th {\n",
       "        vertical-align: top;\n",
       "    }\n",
       "\n",
       "    .dataframe thead th {\n",
       "        text-align: right;\n",
       "    }\n",
       "</style>\n",
       "<table border=\"1\" class=\"dataframe\">\n",
       "  <thead>\n",
       "    <tr style=\"text-align: right;\">\n",
       "      <th></th>\n",
       "      <th>PassengerId</th>\n",
       "      <th>Survived</th>\n",
       "      <th>Pclass</th>\n",
       "      <th>Age</th>\n",
       "      <th>SibSp</th>\n",
       "      <th>Parch</th>\n",
       "      <th>Fare</th>\n",
       "    </tr>\n",
       "  </thead>\n",
       "  <tbody>\n",
       "    <tr>\n",
       "      <th>count</th>\n",
       "      <td>891.000000</td>\n",
       "      <td>891.000000</td>\n",
       "      <td>891.000000</td>\n",
       "      <td>714.000000</td>\n",
       "      <td>891.000000</td>\n",
       "      <td>891.000000</td>\n",
       "      <td>891.000000</td>\n",
       "    </tr>\n",
       "    <tr>\n",
       "      <th>mean</th>\n",
       "      <td>446.000000</td>\n",
       "      <td>0.383838</td>\n",
       "      <td>2.308642</td>\n",
       "      <td>29.699118</td>\n",
       "      <td>0.523008</td>\n",
       "      <td>0.381594</td>\n",
       "      <td>32.204208</td>\n",
       "    </tr>\n",
       "    <tr>\n",
       "      <th>std</th>\n",
       "      <td>257.353842</td>\n",
       "      <td>0.486592</td>\n",
       "      <td>0.836071</td>\n",
       "      <td>14.526497</td>\n",
       "      <td>1.102743</td>\n",
       "      <td>0.806057</td>\n",
       "      <td>49.693429</td>\n",
       "    </tr>\n",
       "    <tr>\n",
       "      <th>min</th>\n",
       "      <td>1.000000</td>\n",
       "      <td>0.000000</td>\n",
       "      <td>1.000000</td>\n",
       "      <td>0.420000</td>\n",
       "      <td>0.000000</td>\n",
       "      <td>0.000000</td>\n",
       "      <td>0.000000</td>\n",
       "    </tr>\n",
       "    <tr>\n",
       "      <th>25%</th>\n",
       "      <td>223.500000</td>\n",
       "      <td>0.000000</td>\n",
       "      <td>2.000000</td>\n",
       "      <td>20.125000</td>\n",
       "      <td>0.000000</td>\n",
       "      <td>0.000000</td>\n",
       "      <td>7.910400</td>\n",
       "    </tr>\n",
       "    <tr>\n",
       "      <th>50%</th>\n",
       "      <td>446.000000</td>\n",
       "      <td>0.000000</td>\n",
       "      <td>3.000000</td>\n",
       "      <td>28.000000</td>\n",
       "      <td>0.000000</td>\n",
       "      <td>0.000000</td>\n",
       "      <td>14.454200</td>\n",
       "    </tr>\n",
       "    <tr>\n",
       "      <th>75%</th>\n",
       "      <td>668.500000</td>\n",
       "      <td>1.000000</td>\n",
       "      <td>3.000000</td>\n",
       "      <td>38.000000</td>\n",
       "      <td>1.000000</td>\n",
       "      <td>0.000000</td>\n",
       "      <td>31.000000</td>\n",
       "    </tr>\n",
       "    <tr>\n",
       "      <th>max</th>\n",
       "      <td>891.000000</td>\n",
       "      <td>1.000000</td>\n",
       "      <td>3.000000</td>\n",
       "      <td>80.000000</td>\n",
       "      <td>8.000000</td>\n",
       "      <td>6.000000</td>\n",
       "      <td>512.329200</td>\n",
       "    </tr>\n",
       "  </tbody>\n",
       "</table>\n",
       "</div>"
      ],
      "text/plain": [
       "       PassengerId    Survived      Pclass         Age       SibSp  \\\n",
       "count   891.000000  891.000000  891.000000  714.000000  891.000000   \n",
       "mean    446.000000    0.383838    2.308642   29.699118    0.523008   \n",
       "std     257.353842    0.486592    0.836071   14.526497    1.102743   \n",
       "min       1.000000    0.000000    1.000000    0.420000    0.000000   \n",
       "25%     223.500000    0.000000    2.000000   20.125000    0.000000   \n",
       "50%     446.000000    0.000000    3.000000   28.000000    0.000000   \n",
       "75%     668.500000    1.000000    3.000000   38.000000    1.000000   \n",
       "max     891.000000    1.000000    3.000000   80.000000    8.000000   \n",
       "\n",
       "            Parch        Fare  \n",
       "count  891.000000  891.000000  \n",
       "mean     0.381594   32.204208  \n",
       "std      0.806057   49.693429  \n",
       "min      0.000000    0.000000  \n",
       "25%      0.000000    7.910400  \n",
       "50%      0.000000   14.454200  \n",
       "75%      0.000000   31.000000  \n",
       "max      6.000000  512.329200  "
      ]
     },
     "execution_count": 5,
     "metadata": {},
     "output_type": "execute_result"
    }
   ],
   "source": [
    "# statistical info\n",
    "train.describe()"
   ]
  },
  {
   "cell_type": "code",
   "execution_count": 6,
   "id": "3185214f-bf6d-4066-b6a8-0cbccc6f8750",
   "metadata": {},
   "outputs": [
    {
     "name": "stdout",
     "output_type": "stream",
     "text": [
      "<class 'pandas.core.frame.DataFrame'>\n",
      "RangeIndex: 891 entries, 0 to 890\n",
      "Data columns (total 12 columns):\n",
      " #   Column       Non-Null Count  Dtype  \n",
      "---  ------       --------------  -----  \n",
      " 0   PassengerId  891 non-null    int64  \n",
      " 1   Survived     891 non-null    int64  \n",
      " 2   Pclass       891 non-null    int64  \n",
      " 3   Name         891 non-null    object \n",
      " 4   Sex          891 non-null    object \n",
      " 5   Age          714 non-null    float64\n",
      " 6   SibSp        891 non-null    int64  \n",
      " 7   Parch        891 non-null    int64  \n",
      " 8   Ticket       891 non-null    object \n",
      " 9   Fare         891 non-null    float64\n",
      " 10  Cabin        204 non-null    object \n",
      " 11  Embarked     889 non-null    object \n",
      "dtypes: float64(2), int64(5), object(5)\n",
      "memory usage: 83.7+ KB\n"
     ]
    }
   ],
   "source": [
    "# datatype info\n",
    "train.info()"
   ]
  },
  {
   "cell_type": "markdown",
   "id": "7f57fcf4-0cb8-40af-83b0-35e274c217a4",
   "metadata": {},
   "source": [
    "# exploratory data analysis"
   ]
  },
  {
   "cell_type": "code",
   "execution_count": 7,
   "id": "fff6bb5f-c4fd-49ce-91b7-8ce7d2229d12",
   "metadata": {},
   "outputs": [
    {
     "data": {
      "text/plain": [
       "<Axes: xlabel='Survived', ylabel='count'>"
      ]
     },
     "execution_count": 7,
     "metadata": {},
     "output_type": "execute_result"
    },
    {
     "data": {
      "image/png": "[encoded data removed]",
      "text/plain": [
       "<Figure size 640x480 with 1 Axes>"
      ]
     },
     "metadata": {},
     "output_type": "display_data"
    }
   ],
   "source": [
    "sns.countplot(x = 'Survived', data = train)"
   ]
  },
  {
   "cell_type": "code",
   "execution_count": 8,
   "id": "938aeb46-fc7d-4eb5-a637-0d0945d9fe8e",
   "metadata": {},
   "outputs": [
    {
     "data": {
      "text/plain": [
       "<Axes: xlabel='Pclass', ylabel='count'>"
      ]
     },
     "execution_count": 8,
     "metadata": {},
     "output_type": "execute_result"
    },
    {
     "data": {
      "image/png": "[encoded data removed]",
      "text/plain": [
       "<Figure size 640x480 with 1 Axes>"
      ]
     },
     "metadata": {},
     "output_type": "display_data"
    }
   ],
   "source": [
    "sns.countplot(x = 'Pclass', data = train)"
   ]
  },
  {
   "cell_type": "code",
   "execution_count": 9,
   "id": "f9c7e153-4f56-4967-887f-88f14b9ed10b",
   "metadata": {},
   "outputs": [
    {
     "data": {
      "text/plain": [
       "<Axes: xlabel='Sex', ylabel='count'>"
      ]
     },
     "execution_count": 9,
     "metadata": {},
     "output_type": "execute_result"
    },
    {
     "data": {
      "image/png": "[encoded data removed]",
      "text/plain": [
       "<Figure size 640x480 with 1 Axes>"
      ]
     },
     "metadata": {},
     "output_type": "display_data"
    }
   ],
   "source": [
    "sns.countplot(x = 'Sex', data = train)"
   ]
  },
  {
   "cell_type": "code",
   "execution_count": 10,
   "id": "92a410d9-2f17-48ff-ad89-c23bcaa0cf66",
   "metadata": {},
   "outputs": [
    {
     "data": {
      "text/plain": [
       "<Axes: xlabel='SibSp', ylabel='count'>"
      ]
     },
     "execution_count": 10,
     "metadata": {},
     "output_type": "execute_result"
    },
    {
     "data": {
      "image/png": "[encoded data removed]",
      "text/plain": [
       "<Figure size 640x480 with 1 Axes>"
      ]
     },
     "metadata": {},
     "output_type": "display_data"
    }
   ],
   "source": [
    "sns.countplot(x = 'SibSp', data = train)"
   ]
  },
  {
   "cell_type": "code",
   "execution_count": 11,
   "id": "9fe00a98-9465-41cd-843f-640144914bc0",
   "metadata": {},
   "outputs": [
    {
     "data": {
      "text/plain": [
       "<Axes: xlabel='Parch', ylabel='count'>"
      ]
     },
     "execution_count": 11,
     "metadata": {},
     "output_type": "execute_result"
    },
    {
     "data": {
      "image/png": "[encoded data removed]",
      "text/plain": [
       "<Figure size 640x480 with 1 Axes>"
      ]
     },
     "metadata": {},
     "output_type": "display_data"
    }
   ],
   "source": [
    "sns.countplot(x = 'Parch', data = train)"
   ]
  },
  {
   "cell_type": "code",
   "execution_count": 12,
   "id": "3f0e75ba-64f5-418a-a695-7fc98be944c7",
   "metadata": {},
   "outputs": [
    {
     "data": {
      "text/plain": [
       "<Axes: xlabel='Embarked', ylabel='count'>"
      ]
     },
     "execution_count": 12,
     "metadata": {},
     "output_type": "execute_result"
    },
    {
     "data": {
      "image/png": "[encoded data removed]",
      "text/plain": [
       "<Figure size 640x480 with 1 Axes>"
      ]
     },
     "metadata": {},
     "output_type": "display_data"
    }
   ],
   "source": [
    "sns.countplot(x = 'Embarked', data = train)"
   ]
  },
  {
   "cell_type": "markdown",
   "id": "a0b4dbdd-bb71-49d3-a679-f9dcb01b5cc8",
   "metadata": {},
   "source": [
    "# numerical attributes"
   ]
  },
  {
   "cell_type": "code",
   "execution_count": 13,
   "id": "b1ff0bb8-c6f4-46e8-bcd8-1a714cfb36fb",
   "metadata": {},
   "outputs": [
    {
     "data": {
      "text/plain": [
       "'\\nIn summary, the main difference between countplot and distplot is the type of data they \\nare designed to visualize:\\n\\ncountplot is for categorical data and shows the count of unique categories.\\n\\ndistplot is for continuous numerical data and shows the distribution of values along with \\nan estimation of the probability density function.\\n\\nYou should choose the appropriate plot based on the nature of your data and the specific \\ninsights you want to gain from your visualization.\\n'"
      ]
     },
     "execution_count": 13,
     "metadata": {},
     "output_type": "execute_result"
    }
   ],
   "source": [
    "'''\n",
    "In summary, the main difference between countplot and distplot is the type of data they \n",
    "are designed to visualize:\n",
    "\n",
    "countplot is for categorical data and shows the count of unique categories.\n",
    "\n",
    "distplot is for continuous numerical data and shows the distribution of values along with \n",
    "an estimation of the probability density function.\n",
    "\n",
    "You should choose the appropriate plot based on the nature of your data and the specific \n",
    "insights you want to gain from your visualization.\n",
    "'''"
   ]
  },
  {
   "cell_type": "code",
   "execution_count": 14,
   "id": "863f69ea-de25-404d-9733-f48e381a32f3",
   "metadata": {},
   "outputs": [
    {
     "data": {
      "text/plain": [
       "<Axes: xlabel='Age', ylabel='Density'>"
      ]
     },
     "execution_count": 14,
     "metadata": {},
     "output_type": "execute_result"
    },
    {
     "data": {
      "image/png": "[encoded data removed]",
      "text/plain": [
       "<Figure size 640x480 with 1 Axes>"
      ]
     },
     "metadata": {},
     "output_type": "display_data"
    }
   ],
   "source": [
    "sns.distplot(train['Age'])"
   ]
  },
  {
   "cell_type": "code",
   "execution_count": 15,
   "id": "a8466eac-3da7-4a68-8765-46ee22cdb6d5",
   "metadata": {},
   "outputs": [
    {
     "data": {
      "text/plain": [
       "<Axes: xlabel='Fare', ylabel='Density'>"
      ]
     },
     "execution_count": 15,
     "metadata": {},
     "output_type": "execute_result"
    },
    {
     "data": {
      "image/png": "[encoded data removed]",
      "text/plain": [
       "<Figure size 640x480 with 1 Axes>"
      ]
     },
     "metadata": {},
     "output_type": "display_data"
    }
   ],
   "source": [
    "sns.distplot(train['Fare'])"
   ]
  },
  {
   "cell_type": "code",
   "execution_count": 16,
   "id": "88fcdf31-ffdb-4309-8711-fd3ead94161f",
   "metadata": {},
   "outputs": [
    {
     "data": {
      "image/png": "[encoded data removed]",
      "text/plain": [
       "<Figure size 640x480 with 1 Axes>"
      ]
     },
     "metadata": {},
     "output_type": "display_data"
    }
   ],
   "source": [
    "class_fare = train.pivot_table(index = 'Pclass', values = 'Fare')\n",
    "class_fare.plot(kind = 'bar')\n",
    "plt.xlabel('Pclass')\n",
    "plt.xticks(rotation = 0)\n",
    "plt.show()"
   ]
  },
  {
   "cell_type": "code",
   "execution_count": 17,
   "id": "d2df5648-e800-429d-9692-86c975ebed4c",
   "metadata": {},
   "outputs": [
    {
     "data": {
      "image/png": "[encoded data removed]",
      "text/plain": [
       "<Figure size 640x480 with 1 Axes>"
      ]
     },
     "metadata": {},
     "output_type": "display_data"
    }
   ],
   "source": [
    "# this is for the total fare\n",
    "\n",
    "class_fare = train.pivot_table(index = 'Pclass', values = 'Fare', aggfunc = np.sum)\n",
    "class_fare.plot(kind = 'bar')\n",
    "plt.xlabel('Pclass')\n",
    "plt.xticks(rotation = 0)\n",
    "plt.show()"
   ]
  },
  {
   "cell_type": "code",
   "execution_count": 18,
   "id": "07d73b47-07b7-40f3-ac30-4c173fb2aba1",
   "metadata": {},
   "outputs": [
    {
     "data": {
      "text/plain": [
       "<Axes: xlabel='Pclass', ylabel='Fare'>"
      ]
     },
     "execution_count": 18,
     "metadata": {},
     "output_type": "execute_result"
    },
    {
     "data": {
      "image/png": "[encoded data removed]",
      "text/plain": [
       "<Figure size 640x480 with 1 Axes>"
      ]
     },
     "metadata": {},
     "output_type": "display_data"
    }
   ],
   "source": [
    "sns.barplot(data = train, x = 'Pclass',y = 'Fare', hue = 'Survived')\n",
    "\n",
    "# this is for making the barplot\n",
    "# hue here is used to color the barplot"
   ]
  },
  {
   "cell_type": "code",
   "execution_count": 19,
   "id": "1ef91db1-6354-45e7-81ab-b2be0ec23241",
   "metadata": {},
   "outputs": [
    {
     "data": {
      "text/plain": [
       "<Axes: xlabel='Survived', ylabel='Fare'>"
      ]
     },
     "execution_count": 19,
     "metadata": {},
     "output_type": "execute_result"
    },
    {
     "data": {
      "image/png": "[encoded data removed]",
      "text/plain": [
       "<Figure size 640x480 with 1 Axes>"
      ]
     },
     "metadata": {},
     "output_type": "display_data"
    }
   ],
   "source": [
    "sns.barplot(data = train, x = 'Survived',y = 'Fare', hue = 'Pclass')\n",
    "\n",
    "# what this barplot tells us is that the number of people who survived and whom did not \n",
    "# survive based on their class and fare "
   ]
  },
  {
   "cell_type": "markdown",
   "id": "fc04abcd-7bc7-475f-849b-e1b5e4b7df29",
   "metadata": {},
   "source": [
    "# data pre processing"
   ]
  },
  {
   "cell_type": "code",
   "execution_count": 20,
   "id": "ea60a398-f1c9-465a-aaf5-93cd5653c706",
   "metadata": {},
   "outputs": [
    {
     "data": {
      "text/html": [
       "<div>\n",
       "<style scoped>\n",
       "    .dataframe tbody tr th:only-of-type {\n",
       "        vertical-align: middle;\n",
       "    }\n",
       "\n",
       "    .dataframe tbody tr th {\n",
       "        vertical-align: top;\n",
       "    }\n",
       "\n",
       "    .dataframe thead th {\n",
       "        text-align: right;\n",
       "    }\n",
       "</style>\n",
       "<table border=\"1\" class=\"dataframe\">\n",
       "  <thead>\n",
       "    <tr style=\"text-align: right;\">\n",
       "      <th></th>\n",
       "      <th>PassengerId</th>\n",
       "      <th>Survived</th>\n",
       "      <th>Pclass</th>\n",
       "      <th>Name</th>\n",
       "      <th>Sex</th>\n",
       "      <th>Age</th>\n",
       "      <th>SibSp</th>\n",
       "      <th>Parch</th>\n",
       "      <th>Ticket</th>\n",
       "      <th>Fare</th>\n",
       "      <th>Cabin</th>\n",
       "      <th>Embarked</th>\n",
       "    </tr>\n",
       "  </thead>\n",
       "  <tbody>\n",
       "    <tr>\n",
       "      <th>0</th>\n",
       "      <td>1</td>\n",
       "      <td>0.0</td>\n",
       "      <td>3</td>\n",
       "      <td>Braund, Mr. Owen Harris</td>\n",
       "      <td>male</td>\n",
       "      <td>22.0</td>\n",
       "      <td>1</td>\n",
       "      <td>0</td>\n",
       "      <td>A/5 21171</td>\n",
       "      <td>7.2500</td>\n",
       "      <td>NaN</td>\n",
       "      <td>S</td>\n",
       "    </tr>\n",
       "    <tr>\n",
       "      <th>1</th>\n",
       "      <td>2</td>\n",
       "      <td>1.0</td>\n",
       "      <td>1</td>\n",
       "      <td>Cumings, Mrs. John Bradley (Florence Briggs Th...</td>\n",
       "      <td>female</td>\n",
       "      <td>38.0</td>\n",
       "      <td>1</td>\n",
       "      <td>0</td>\n",
       "      <td>PC 17599</td>\n",
       "      <td>71.2833</td>\n",
       "      <td>C85</td>\n",
       "      <td>C</td>\n",
       "    </tr>\n",
       "    <tr>\n",
       "      <th>2</th>\n",
       "      <td>3</td>\n",
       "      <td>1.0</td>\n",
       "      <td>3</td>\n",
       "      <td>Heikkinen, Miss. Laina</td>\n",
       "      <td>female</td>\n",
       "      <td>26.0</td>\n",
       "      <td>0</td>\n",
       "      <td>0</td>\n",
       "      <td>STON/O2. 3101282</td>\n",
       "      <td>7.9250</td>\n",
       "      <td>NaN</td>\n",
       "      <td>S</td>\n",
       "    </tr>\n",
       "    <tr>\n",
       "      <th>3</th>\n",
       "      <td>4</td>\n",
       "      <td>1.0</td>\n",
       "      <td>1</td>\n",
       "      <td>Futrelle, Mrs. Jacques Heath (Lily May Peel)</td>\n",
       "      <td>female</td>\n",
       "      <td>35.0</td>\n",
       "      <td>1</td>\n",
       "      <td>0</td>\n",
       "      <td>113803</td>\n",
       "      <td>53.1000</td>\n",
       "      <td>C123</td>\n",
       "      <td>S</td>\n",
       "    </tr>\n",
       "    <tr>\n",
       "      <th>4</th>\n",
       "      <td>5</td>\n",
       "      <td>0.0</td>\n",
       "      <td>3</td>\n",
       "      <td>Allen, Mr. William Henry</td>\n",
       "      <td>male</td>\n",
       "      <td>35.0</td>\n",
       "      <td>0</td>\n",
       "      <td>0</td>\n",
       "      <td>373450</td>\n",
       "      <td>8.0500</td>\n",
       "      <td>NaN</td>\n",
       "      <td>S</td>\n",
       "    </tr>\n",
       "  </tbody>\n",
       "</table>\n",
       "</div>"
      ],
      "text/plain": [
       "   PassengerId  Survived  Pclass  \\\n",
       "0            1       0.0       3   \n",
       "1            2       1.0       1   \n",
       "2            3       1.0       3   \n",
       "3            4       1.0       1   \n",
       "4            5       0.0       3   \n",
       "\n",
       "                                                Name     Sex   Age  SibSp  \\\n",
       "0                            Braund, Mr. Owen Harris    male  22.0      1   \n",
       "1  Cumings, Mrs. John Bradley (Florence Briggs Th...  female  38.0      1   \n",
       "2                             Heikkinen, Miss. Laina  female  26.0      0   \n",
       "3       Futrelle, Mrs. Jacques Heath (Lily May Peel)  female  35.0      1   \n",
       "4                           Allen, Mr. William Henry    male  35.0      0   \n",
       "\n",
       "   Parch            Ticket     Fare Cabin Embarked  \n",
       "0      0         A/5 21171   7.2500   NaN        S  \n",
       "1      0          PC 17599  71.2833   C85        C  \n",
       "2      0  STON/O2. 3101282   7.9250   NaN        S  \n",
       "3      0            113803  53.1000  C123        S  \n",
       "4      0            373450   8.0500   NaN        S  "
      ]
     },
     "execution_count": 20,
     "metadata": {},
     "output_type": "execute_result"
    }
   ],
   "source": [
    "train_len = len(train)\n",
    "# combine two data frames\n",
    "df = pd.concat([train, test], axis = 0)\n",
    "df = df.reset_index(drop = True )\n",
    "df.head()"
   ]
  },
  {
   "cell_type": "code",
   "execution_count": 21,
   "id": "61131e0e-a563-4c1b-b36f-23b1c11690e0",
   "metadata": {},
   "outputs": [
    {
     "data": {
      "text/html": [
       "<div>\n",
       "<style scoped>\n",
       "    .dataframe tbody tr th:only-of-type {\n",
       "        vertical-align: middle;\n",
       "    }\n",
       "\n",
       "    .dataframe tbody tr th {\n",
       "        vertical-align: top;\n",
       "    }\n",
       "\n",
       "    .dataframe thead th {\n",
       "        text-align: right;\n",
       "    }\n",
       "</style>\n",
       "<table border=\"1\" class=\"dataframe\">\n",
       "  <thead>\n",
       "    <tr style=\"text-align: right;\">\n",
       "      <th></th>\n",
       "      <th>PassengerId</th>\n",
       "      <th>Survived</th>\n",
       "      <th>Pclass</th>\n",
       "      <th>Name</th>\n",
       "      <th>Sex</th>\n",
       "      <th>Age</th>\n",
       "      <th>SibSp</th>\n",
       "      <th>Parch</th>\n",
       "      <th>Ticket</th>\n",
       "      <th>Fare</th>\n",
       "      <th>Cabin</th>\n",
       "      <th>Embarked</th>\n",
       "    </tr>\n",
       "  </thead>\n",
       "  <tbody>\n",
       "    <tr>\n",
       "      <th>1304</th>\n",
       "      <td>1305</td>\n",
       "      <td>NaN</td>\n",
       "      <td>3</td>\n",
       "      <td>Spector, Mr. Woolf</td>\n",
       "      <td>male</td>\n",
       "      <td>NaN</td>\n",
       "      <td>0</td>\n",
       "      <td>0</td>\n",
       "      <td>A.5. 3236</td>\n",
       "      <td>8.0500</td>\n",
       "      <td>NaN</td>\n",
       "      <td>S</td>\n",
       "    </tr>\n",
       "    <tr>\n",
       "      <th>1305</th>\n",
       "      <td>1306</td>\n",
       "      <td>NaN</td>\n",
       "      <td>1</td>\n",
       "      <td>Oliva y Ocana, Dona. Fermina</td>\n",
       "      <td>female</td>\n",
       "      <td>39.0</td>\n",
       "      <td>0</td>\n",
       "      <td>0</td>\n",
       "      <td>PC 17758</td>\n",
       "      <td>108.9000</td>\n",
       "      <td>C105</td>\n",
       "      <td>C</td>\n",
       "    </tr>\n",
       "    <tr>\n",
       "      <th>1306</th>\n",
       "      <td>1307</td>\n",
       "      <td>NaN</td>\n",
       "      <td>3</td>\n",
       "      <td>Saether, Mr. Simon Sivertsen</td>\n",
       "      <td>male</td>\n",
       "      <td>38.5</td>\n",
       "      <td>0</td>\n",
       "      <td>0</td>\n",
       "      <td>SOTON/O.Q. 3101262</td>\n",
       "      <td>7.2500</td>\n",
       "      <td>NaN</td>\n",
       "      <td>S</td>\n",
       "    </tr>\n",
       "    <tr>\n",
       "      <th>1307</th>\n",
       "      <td>1308</td>\n",
       "      <td>NaN</td>\n",
       "      <td>3</td>\n",
       "      <td>Ware, Mr. Frederick</td>\n",
       "      <td>male</td>\n",
       "      <td>NaN</td>\n",
       "      <td>0</td>\n",
       "      <td>0</td>\n",
       "      <td>359309</td>\n",
       "      <td>8.0500</td>\n",
       "      <td>NaN</td>\n",
       "      <td>S</td>\n",
       "    </tr>\n",
       "    <tr>\n",
       "      <th>1308</th>\n",
       "      <td>1309</td>\n",
       "      <td>NaN</td>\n",
       "      <td>3</td>\n",
       "      <td>Peter, Master. Michael J</td>\n",
       "      <td>male</td>\n",
       "      <td>NaN</td>\n",
       "      <td>1</td>\n",
       "      <td>1</td>\n",
       "      <td>2668</td>\n",
       "      <td>22.3583</td>\n",
       "      <td>NaN</td>\n",
       "      <td>C</td>\n",
       "    </tr>\n",
       "  </tbody>\n",
       "</table>\n",
       "</div>"
      ],
      "text/plain": [
       "      PassengerId  Survived  Pclass                          Name     Sex  \\\n",
       "1304         1305       NaN       3            Spector, Mr. Woolf    male   \n",
       "1305         1306       NaN       1  Oliva y Ocana, Dona. Fermina  female   \n",
       "1306         1307       NaN       3  Saether, Mr. Simon Sivertsen    male   \n",
       "1307         1308       NaN       3           Ware, Mr. Frederick    male   \n",
       "1308         1309       NaN       3      Peter, Master. Michael J    male   \n",
       "\n",
       "       Age  SibSp  Parch              Ticket      Fare Cabin Embarked  \n",
       "1304   NaN      0      0           A.5. 3236    8.0500   NaN        S  \n",
       "1305  39.0      0      0            PC 17758  108.9000  C105        C  \n",
       "1306  38.5      0      0  SOTON/O.Q. 3101262    7.2500   NaN        S  \n",
       "1307   NaN      0      0              359309    8.0500   NaN        S  \n",
       "1308   NaN      1      1                2668   22.3583   NaN        C  "
      ]
     },
     "execution_count": 21,
     "metadata": {},
     "output_type": "execute_result"
    }
   ],
   "source": [
    "df.tail()"
   ]
  },
  {
   "cell_type": "code",
   "execution_count": 22,
   "id": "4ed64974-877b-478c-8055-1c51d77d5c8c",
   "metadata": {},
   "outputs": [],
   "source": [
    "# find the null values"
   ]
  },
  {
   "cell_type": "code",
   "execution_count": 23,
   "id": "3bd31bf4-7a97-4d5c-861f-1381b4808c55",
   "metadata": {},
   "outputs": [
    {
     "data": {
      "text/plain": [
       "891"
      ]
     },
     "execution_count": 23,
     "metadata": {},
     "output_type": "execute_result"
    }
   ],
   "source": [
    "train_len"
   ]
  },
  {
   "cell_type": "code",
   "execution_count": 24,
   "id": "66b2b382-86ff-4213-9656-edc137f8138d",
   "metadata": {},
   "outputs": [
    {
     "data": {
      "text/plain": [
       "PassengerId       0\n",
       "Survived        418\n",
       "Pclass            0\n",
       "Name              0\n",
       "Sex               0\n",
       "Age             263\n",
       "SibSp             0\n",
       "Parch             0\n",
       "Ticket            0\n",
       "Fare              1\n",
       "Cabin          1014\n",
       "Embarked          2\n",
       "dtype: int64"
      ]
     },
     "execution_count": 24,
     "metadata": {},
     "output_type": "execute_result"
    }
   ],
   "source": [
    "df.isnull().sum()"
   ]
  },
  {
   "cell_type": "code",
   "execution_count": 25,
   "id": "0cbedfe0-74f8-46ce-9727-56678dc864c6",
   "metadata": {},
   "outputs": [],
   "source": [
    "# dropping the coloumn cabin\n",
    "df = df.drop(columns = ['Cabin'], axis = 1)\n"
   ]
  },
  {
   "cell_type": "code",
   "execution_count": 26,
   "id": "0c600c10-3501-4080-a097-1418cc77c3bf",
   "metadata": {},
   "outputs": [
    {
     "data": {
      "text/plain": [
       "29.881137667304014"
      ]
     },
     "execution_count": 26,
     "metadata": {},
     "output_type": "execute_result"
    }
   ],
   "source": [
    "df['Age'].mean()"
   ]
  },
  {
   "cell_type": "code",
   "execution_count": 27,
   "id": "9b91533a-923e-4f01-8511-0b973bdecb7c",
   "metadata": {},
   "outputs": [
    {
     "data": {
      "text/plain": [
       "'S'"
      ]
     },
     "execution_count": 27,
     "metadata": {},
     "output_type": "execute_result"
    }
   ],
   "source": [
    "df['Embarked'].mode()[0]"
   ]
  },
  {
   "cell_type": "code",
   "execution_count": 28,
   "id": "4f469f9b-20f7-4ad9-be7d-f5e09cb1f04f",
   "metadata": {},
   "outputs": [],
   "source": [
    "# filling the missing values using mean of that column\n",
    "df['Age'] = df['Age'].fillna(df['Age'].mean())\n",
    "df['Fare'] = df['Fare'].fillna(df['Fare'].mean())\n",
    "df['Embarked'] = df['Embarked'].fillna(df['Embarked'].mode()[0])"
   ]
  },
  {
   "cell_type": "markdown",
   "id": "7da6aa2d-be16-4792-a885-87de42d7b30e",
   "metadata": {},
   "source": [
    "# log transformation for uniform data distribution"
   ]
  },
  {
   "cell_type": "code",
   "execution_count": 29,
   "id": "f954e2d4-9870-4b6b-bdd8-e31b8d769805",
   "metadata": {},
   "outputs": [
    {
     "data": {
      "text/plain": [
       "<Axes: xlabel='Fare', ylabel='Density'>"
      ]
     },
     "execution_count": 29,
     "metadata": {},
     "output_type": "execute_result"
    },
    {
     "data": {
      "image/png": "[encoded data removed]",
      "text/plain": [
       "<Figure size 640x480 with 1 Axes>"
      ]
     },
     "metadata": {},
     "output_type": "display_data"
    }
   ],
   "source": [
    " sns.distplot(train['Fare'])"
   ]
  },
  {
   "cell_type": "code",
   "execution_count": 30,
   "id": "83202a76-b41e-4f01-88ce-d6019c315d26",
   "metadata": {},
   "outputs": [],
   "source": [
    "df['Fare'] = np.log(df['Fare'] + 1)\n",
    "\n",
    "# what we are doing here is that we are replacing the null values with mean"
   ]
  },
  {
   "cell_type": "code",
   "execution_count": 31,
   "id": "3733890e-0b57-4fba-af8f-d71caddba112",
   "metadata": {},
   "outputs": [
    {
     "data": {
      "text/plain": [
       "<Axes: xlabel='Fare', ylabel='Density'>"
      ]
     },
     "execution_count": 31,
     "metadata": {},
     "output_type": "execute_result"
    },
    {
     "data": {
      "image/png": "[encoded data removed]",
      "text/plain": [
       "<Figure size 640x480 with 1 Axes>"
      ]
     },
     "metadata": {},
     "output_type": "display_data"
    }
   ],
   "source": [
    "sns.distplot(df['Fare'])"
   ]
  },
  {
   "cell_type": "markdown",
   "id": "b6fe54b9-d65e-4e97-a1da-3b20b8b37681",
   "metadata": {},
   "source": [
    "# co relation matrix"
   ]
  },
  {
   "cell_type": "code",
   "execution_count": 32,
   "id": "b6c21260-ddad-45f1-ac0a-cd3ab60443c4",
   "metadata": {},
   "outputs": [
    {
     "data": {
      "text/plain": [
       "<Axes: >"
      ]
     },
     "execution_count": 32,
     "metadata": {},
     "output_type": "execute_result"
    },
    {
     "data": {
      "image/png": "[encoded data removed]",
      "text/plain": [
       "<Figure size 1500x900 with 2 Axes>"
      ]
     },
     "metadata": {},
     "output_type": "display_data"
    }
   ],
   "source": [
    "# this will only include the numeric column and remove the non-numeric ones\n",
    "numeric_df = df.select_dtypes(include=['float64', 'int64'])\n",
    "\n",
    "# co relation for the numeric column\n",
    "corr = numeric_df.corr()\n",
    "\n",
    "# Create the heatmap\n",
    "plt.figure(figsize=(15, 9))\n",
    "sns.heatmap(corr, annot=True, cmap='coolwarm')\n"
   ]
  },
  {
   "cell_type": "code",
   "execution_count": 33,
   "id": "af5abca6-e72a-4c34-b756-16a84121d229",
   "metadata": {},
   "outputs": [
    {
     "data": {
      "image/png": "[encoded data removed]",
      "text/plain": [
       "<Figure size 800x600 with 2 Axes>"
      ]
     },
     "metadata": {},
     "output_type": "display_data"
    }
   ],
   "source": [
    "# small example for understanding heatmap\n",
    "\n",
    "data = [[1, 0.7, 0.3],\n",
    "        [0.7, 1, 0.5],\n",
    "        [0.3, 0.5, 1]]\n",
    "\n",
    "# Create the heatmap\n",
    "plt.figure(figsize=(8, 6))  # Adjust the figure size if needed\n",
    "sns.heatmap(data, annot=True, cmap='coolwarm', linewidths=0.5, linecolor='gray')\n",
    "\n",
    "# Add labels to the axes (optional)\n",
    "plt.xlabel('X-axis')\n",
    "plt.ylabel('Y-axis')\n",
    "\n",
    "# Show the heatmap\n",
    "plt.show()"
   ]
  },
  {
   "cell_type": "code",
   "execution_count": 34,
   "id": "8c03ed8e-ec6a-4d5b-a496-8e9755bdb975",
   "metadata": {},
   "outputs": [
    {
     "data": {
      "text/html": [
       "<div>\n",
       "<style scoped>\n",
       "    .dataframe tbody tr th:only-of-type {\n",
       "        vertical-align: middle;\n",
       "    }\n",
       "\n",
       "    .dataframe tbody tr th {\n",
       "        vertical-align: top;\n",
       "    }\n",
       "\n",
       "    .dataframe thead th {\n",
       "        text-align: right;\n",
       "    }\n",
       "</style>\n",
       "<table border=\"1\" class=\"dataframe\">\n",
       "  <thead>\n",
       "    <tr style=\"text-align: right;\">\n",
       "      <th></th>\n",
       "      <th>PassengerId</th>\n",
       "      <th>Survived</th>\n",
       "      <th>Pclass</th>\n",
       "      <th>Name</th>\n",
       "      <th>Sex</th>\n",
       "      <th>Age</th>\n",
       "      <th>SibSp</th>\n",
       "      <th>Parch</th>\n",
       "      <th>Ticket</th>\n",
       "      <th>Fare</th>\n",
       "      <th>Embarked</th>\n",
       "    </tr>\n",
       "  </thead>\n",
       "  <tbody>\n",
       "    <tr>\n",
       "      <th>0</th>\n",
       "      <td>1</td>\n",
       "      <td>0.0</td>\n",
       "      <td>3</td>\n",
       "      <td>Braund, Mr. Owen Harris</td>\n",
       "      <td>male</td>\n",
       "      <td>22.0</td>\n",
       "      <td>1</td>\n",
       "      <td>0</td>\n",
       "      <td>A/5 21171</td>\n",
       "      <td>2.110213</td>\n",
       "      <td>S</td>\n",
       "    </tr>\n",
       "    <tr>\n",
       "      <th>1</th>\n",
       "      <td>2</td>\n",
       "      <td>1.0</td>\n",
       "      <td>1</td>\n",
       "      <td>Cumings, Mrs. John Bradley (Florence Briggs Th...</td>\n",
       "      <td>female</td>\n",
       "      <td>38.0</td>\n",
       "      <td>1</td>\n",
       "      <td>0</td>\n",
       "      <td>PC 17599</td>\n",
       "      <td>4.280593</td>\n",
       "      <td>C</td>\n",
       "    </tr>\n",
       "    <tr>\n",
       "      <th>2</th>\n",
       "      <td>3</td>\n",
       "      <td>1.0</td>\n",
       "      <td>3</td>\n",
       "      <td>Heikkinen, Miss. Laina</td>\n",
       "      <td>female</td>\n",
       "      <td>26.0</td>\n",
       "      <td>0</td>\n",
       "      <td>0</td>\n",
       "      <td>STON/O2. 3101282</td>\n",
       "      <td>2.188856</td>\n",
       "      <td>S</td>\n",
       "    </tr>\n",
       "    <tr>\n",
       "      <th>3</th>\n",
       "      <td>4</td>\n",
       "      <td>1.0</td>\n",
       "      <td>1</td>\n",
       "      <td>Futrelle, Mrs. Jacques Heath (Lily May Peel)</td>\n",
       "      <td>female</td>\n",
       "      <td>35.0</td>\n",
       "      <td>1</td>\n",
       "      <td>0</td>\n",
       "      <td>113803</td>\n",
       "      <td>3.990834</td>\n",
       "      <td>S</td>\n",
       "    </tr>\n",
       "    <tr>\n",
       "      <th>4</th>\n",
       "      <td>5</td>\n",
       "      <td>0.0</td>\n",
       "      <td>3</td>\n",
       "      <td>Allen, Mr. William Henry</td>\n",
       "      <td>male</td>\n",
       "      <td>35.0</td>\n",
       "      <td>0</td>\n",
       "      <td>0</td>\n",
       "      <td>373450</td>\n",
       "      <td>2.202765</td>\n",
       "      <td>S</td>\n",
       "    </tr>\n",
       "  </tbody>\n",
       "</table>\n",
       "</div>"
      ],
      "text/plain": [
       "   PassengerId  Survived  Pclass  \\\n",
       "0            1       0.0       3   \n",
       "1            2       1.0       1   \n",
       "2            3       1.0       3   \n",
       "3            4       1.0       1   \n",
       "4            5       0.0       3   \n",
       "\n",
       "                                                Name     Sex   Age  SibSp  \\\n",
       "0                            Braund, Mr. Owen Harris    male  22.0      1   \n",
       "1  Cumings, Mrs. John Bradley (Florence Briggs Th...  female  38.0      1   \n",
       "2                             Heikkinen, Miss. Laina  female  26.0      0   \n",
       "3       Futrelle, Mrs. Jacques Heath (Lily May Peel)  female  35.0      1   \n",
       "4                           Allen, Mr. William Henry    male  35.0      0   \n",
       "\n",
       "   Parch            Ticket      Fare Embarked  \n",
       "0      0         A/5 21171  2.110213        S  \n",
       "1      0          PC 17599  4.280593        C  \n",
       "2      0  STON/O2. 3101282  2.188856        S  \n",
       "3      0            113803  3.990834        S  \n",
       "4      0            373450  2.202765        S  "
      ]
     },
     "execution_count": 34,
     "metadata": {},
     "output_type": "execute_result"
    }
   ],
   "source": [
    "df.head()"
   ]
  },
  {
   "cell_type": "code",
   "execution_count": 35,
   "id": "a2fedef9-c9d0-491b-9308-362f2f194996",
   "metadata": {},
   "outputs": [],
   "source": [
    "df = df.drop(columns = ['Name', 'Ticket'], axis = 1)"
   ]
  },
  {
   "cell_type": "code",
   "execution_count": 36,
   "id": "e1c88294-0606-4db0-b81c-7888ea74801b",
   "metadata": {},
   "outputs": [
    {
     "data": {
      "text/html": [
       "<div>\n",
       "<style scoped>\n",
       "    .dataframe tbody tr th:only-of-type {\n",
       "        vertical-align: middle;\n",
       "    }\n",
       "\n",
       "    .dataframe tbody tr th {\n",
       "        vertical-align: top;\n",
       "    }\n",
       "\n",
       "    .dataframe thead th {\n",
       "        text-align: right;\n",
       "    }\n",
       "</style>\n",
       "<table border=\"1\" class=\"dataframe\">\n",
       "  <thead>\n",
       "    <tr style=\"text-align: right;\">\n",
       "      <th></th>\n",
       "      <th>PassengerId</th>\n",
       "      <th>Survived</th>\n",
       "      <th>Pclass</th>\n",
       "      <th>Sex</th>\n",
       "      <th>Age</th>\n",
       "      <th>SibSp</th>\n",
       "      <th>Parch</th>\n",
       "      <th>Fare</th>\n",
       "      <th>Embarked</th>\n",
       "    </tr>\n",
       "  </thead>\n",
       "  <tbody>\n",
       "    <tr>\n",
       "      <th>0</th>\n",
       "      <td>1</td>\n",
       "      <td>0.0</td>\n",
       "      <td>3</td>\n",
       "      <td>male</td>\n",
       "      <td>22.0</td>\n",
       "      <td>1</td>\n",
       "      <td>0</td>\n",
       "      <td>2.110213</td>\n",
       "      <td>S</td>\n",
       "    </tr>\n",
       "    <tr>\n",
       "      <th>1</th>\n",
       "      <td>2</td>\n",
       "      <td>1.0</td>\n",
       "      <td>1</td>\n",
       "      <td>female</td>\n",
       "      <td>38.0</td>\n",
       "      <td>1</td>\n",
       "      <td>0</td>\n",
       "      <td>4.280593</td>\n",
       "      <td>C</td>\n",
       "    </tr>\n",
       "    <tr>\n",
       "      <th>2</th>\n",
       "      <td>3</td>\n",
       "      <td>1.0</td>\n",
       "      <td>3</td>\n",
       "      <td>female</td>\n",
       "      <td>26.0</td>\n",
       "      <td>0</td>\n",
       "      <td>0</td>\n",
       "      <td>2.188856</td>\n",
       "      <td>S</td>\n",
       "    </tr>\n",
       "    <tr>\n",
       "      <th>3</th>\n",
       "      <td>4</td>\n",
       "      <td>1.0</td>\n",
       "      <td>1</td>\n",
       "      <td>female</td>\n",
       "      <td>35.0</td>\n",
       "      <td>1</td>\n",
       "      <td>0</td>\n",
       "      <td>3.990834</td>\n",
       "      <td>S</td>\n",
       "    </tr>\n",
       "    <tr>\n",
       "      <th>4</th>\n",
       "      <td>5</td>\n",
       "      <td>0.0</td>\n",
       "      <td>3</td>\n",
       "      <td>male</td>\n",
       "      <td>35.0</td>\n",
       "      <td>0</td>\n",
       "      <td>0</td>\n",
       "      <td>2.202765</td>\n",
       "      <td>S</td>\n",
       "    </tr>\n",
       "  </tbody>\n",
       "</table>\n",
       "</div>"
      ],
      "text/plain": [
       "   PassengerId  Survived  Pclass     Sex   Age  SibSp  Parch      Fare  \\\n",
       "0            1       0.0       3    male  22.0      1      0  2.110213   \n",
       "1            2       1.0       1  female  38.0      1      0  4.280593   \n",
       "2            3       1.0       3  female  26.0      0      0  2.188856   \n",
       "3            4       1.0       1  female  35.0      1      0  3.990834   \n",
       "4            5       0.0       3    male  35.0      0      0  2.202765   \n",
       "\n",
       "  Embarked  \n",
       "0        S  \n",
       "1        C  \n",
       "2        S  \n",
       "3        S  \n",
       "4        S  "
      ]
     },
     "execution_count": 36,
     "metadata": {},
     "output_type": "execute_result"
    }
   ],
   "source": [
    "df.head()"
   ]
  },
  {
   "cell_type": "markdown",
   "id": "4650b264-2f81-4cdf-8e96-fea725d93bee",
   "metadata": {},
   "source": [
    "# label encoding"
   ]
  },
  {
   "cell_type": "code",
   "execution_count": 37,
   "id": "1d056b50-8f7c-4b9d-ac9f-52ea1b96dc55",
   "metadata": {},
   "outputs": [],
   "source": [
    "from sklearn.preprocessing import LabelEncoder"
   ]
  },
  {
   "cell_type": "code",
   "execution_count": 38,
   "id": "8e63d677-8dfe-430d-b84b-398439e34787",
   "metadata": {},
   "outputs": [
    {
     "data": {
      "text/html": [
       "<div>\n",
       "<style scoped>\n",
       "    .dataframe tbody tr th:only-of-type {\n",
       "        vertical-align: middle;\n",
       "    }\n",
       "\n",
       "    .dataframe tbody tr th {\n",
       "        vertical-align: top;\n",
       "    }\n",
       "\n",
       "    .dataframe thead th {\n",
       "        text-align: right;\n",
       "    }\n",
       "</style>\n",
       "<table border=\"1\" class=\"dataframe\">\n",
       "  <thead>\n",
       "    <tr style=\"text-align: right;\">\n",
       "      <th></th>\n",
       "      <th>PassengerId</th>\n",
       "      <th>Survived</th>\n",
       "      <th>Pclass</th>\n",
       "      <th>Sex</th>\n",
       "      <th>Age</th>\n",
       "      <th>SibSp</th>\n",
       "      <th>Parch</th>\n",
       "      <th>Fare</th>\n",
       "      <th>Embarked</th>\n",
       "    </tr>\n",
       "  </thead>\n",
       "  <tbody>\n",
       "    <tr>\n",
       "      <th>0</th>\n",
       "      <td>1</td>\n",
       "      <td>0.0</td>\n",
       "      <td>3</td>\n",
       "      <td>1</td>\n",
       "      <td>22.0</td>\n",
       "      <td>1</td>\n",
       "      <td>0</td>\n",
       "      <td>2.110213</td>\n",
       "      <td>2</td>\n",
       "    </tr>\n",
       "    <tr>\n",
       "      <th>1</th>\n",
       "      <td>2</td>\n",
       "      <td>1.0</td>\n",
       "      <td>1</td>\n",
       "      <td>0</td>\n",
       "      <td>38.0</td>\n",
       "      <td>1</td>\n",
       "      <td>0</td>\n",
       "      <td>4.280593</td>\n",
       "      <td>0</td>\n",
       "    </tr>\n",
       "    <tr>\n",
       "      <th>2</th>\n",
       "      <td>3</td>\n",
       "      <td>1.0</td>\n",
       "      <td>3</td>\n",
       "      <td>0</td>\n",
       "      <td>26.0</td>\n",
       "      <td>0</td>\n",
       "      <td>0</td>\n",
       "      <td>2.188856</td>\n",
       "      <td>2</td>\n",
       "    </tr>\n",
       "    <tr>\n",
       "      <th>3</th>\n",
       "      <td>4</td>\n",
       "      <td>1.0</td>\n",
       "      <td>1</td>\n",
       "      <td>0</td>\n",
       "      <td>35.0</td>\n",
       "      <td>1</td>\n",
       "      <td>0</td>\n",
       "      <td>3.990834</td>\n",
       "      <td>2</td>\n",
       "    </tr>\n",
       "    <tr>\n",
       "      <th>4</th>\n",
       "      <td>5</td>\n",
       "      <td>0.0</td>\n",
       "      <td>3</td>\n",
       "      <td>1</td>\n",
       "      <td>35.0</td>\n",
       "      <td>0</td>\n",
       "      <td>0</td>\n",
       "      <td>2.202765</td>\n",
       "      <td>2</td>\n",
       "    </tr>\n",
       "  </tbody>\n",
       "</table>\n",
       "</div>"
      ],
      "text/plain": [
       "   PassengerId  Survived  Pclass  Sex   Age  SibSp  Parch      Fare  Embarked\n",
       "0            1       0.0       3    1  22.0      1      0  2.110213         2\n",
       "1            2       1.0       1    0  38.0      1      0  4.280593         0\n",
       "2            3       1.0       3    0  26.0      0      0  2.188856         2\n",
       "3            4       1.0       1    0  35.0      1      0  3.990834         2\n",
       "4            5       0.0       3    1  35.0      0      0  2.202765         2"
      ]
     },
     "execution_count": 38,
     "metadata": {},
     "output_type": "execute_result"
    }
   ],
   "source": [
    "cols = ['Sex', 'Embarked']\n",
    "le = LabelEncoder()\n",
    "# what we are doing here is that we are creating an instance of the label encoder class\n",
    "\n",
    "for col in cols:\n",
    "    df[col] = le.fit_transform(df[col])\n",
    "df.head()"
   ]
  },
  {
   "cell_type": "code",
   "execution_count": 39,
   "id": "a90a691c-7fab-4257-b384-ffa361dd9594",
   "metadata": {},
   "outputs": [],
   "source": [
    "# now  here what we can see is that the values of sex and embarked which were strings \n",
    "# before have been converted to numerical values which can now be used to make and visuali\n",
    "# properly"
   ]
  },
  {
   "cell_type": "markdown",
   "id": "a33a24e8-5ccf-4a5f-9ad1-1d39bacd3f4f",
   "metadata": {},
   "source": [
    "# train test split"
   ]
  },
  {
   "cell_type": "code",
   "execution_count": 40,
   "id": "fac16edf-bc34-4c71-9cd4-1a69775a71b5",
   "metadata": {},
   "outputs": [],
   "source": [
    "train = df.iloc[:train_len, :]\n",
    "test = df.iloc[train_len:, :]"
   ]
  },
  {
   "cell_type": "code",
   "execution_count": 41,
   "id": "51ab3516-9068-497f-94d0-5ac4a6e70724",
   "metadata": {},
   "outputs": [
    {
     "data": {
      "text/html": [
       "<div>\n",
       "<style scoped>\n",
       "    .dataframe tbody tr th:only-of-type {\n",
       "        vertical-align: middle;\n",
       "    }\n",
       "\n",
       "    .dataframe tbody tr th {\n",
       "        vertical-align: top;\n",
       "    }\n",
       "\n",
       "    .dataframe thead th {\n",
       "        text-align: right;\n",
       "    }\n",
       "</style>\n",
       "<table border=\"1\" class=\"dataframe\">\n",
       "  <thead>\n",
       "    <tr style=\"text-align: right;\">\n",
       "      <th></th>\n",
       "      <th>PassengerId</th>\n",
       "      <th>Survived</th>\n",
       "      <th>Pclass</th>\n",
       "      <th>Sex</th>\n",
       "      <th>Age</th>\n",
       "      <th>SibSp</th>\n",
       "      <th>Parch</th>\n",
       "      <th>Fare</th>\n",
       "      <th>Embarked</th>\n",
       "    </tr>\n",
       "  </thead>\n",
       "  <tbody>\n",
       "    <tr>\n",
       "      <th>0</th>\n",
       "      <td>1</td>\n",
       "      <td>0.0</td>\n",
       "      <td>3</td>\n",
       "      <td>1</td>\n",
       "      <td>22.0</td>\n",
       "      <td>1</td>\n",
       "      <td>0</td>\n",
       "      <td>2.110213</td>\n",
       "      <td>2</td>\n",
       "    </tr>\n",
       "    <tr>\n",
       "      <th>1</th>\n",
       "      <td>2</td>\n",
       "      <td>1.0</td>\n",
       "      <td>1</td>\n",
       "      <td>0</td>\n",
       "      <td>38.0</td>\n",
       "      <td>1</td>\n",
       "      <td>0</td>\n",
       "      <td>4.280593</td>\n",
       "      <td>0</td>\n",
       "    </tr>\n",
       "    <tr>\n",
       "      <th>2</th>\n",
       "      <td>3</td>\n",
       "      <td>1.0</td>\n",
       "      <td>3</td>\n",
       "      <td>0</td>\n",
       "      <td>26.0</td>\n",
       "      <td>0</td>\n",
       "      <td>0</td>\n",
       "      <td>2.188856</td>\n",
       "      <td>2</td>\n",
       "    </tr>\n",
       "    <tr>\n",
       "      <th>3</th>\n",
       "      <td>4</td>\n",
       "      <td>1.0</td>\n",
       "      <td>1</td>\n",
       "      <td>0</td>\n",
       "      <td>35.0</td>\n",
       "      <td>1</td>\n",
       "      <td>0</td>\n",
       "      <td>3.990834</td>\n",
       "      <td>2</td>\n",
       "    </tr>\n",
       "    <tr>\n",
       "      <th>4</th>\n",
       "      <td>5</td>\n",
       "      <td>0.0</td>\n",
       "      <td>3</td>\n",
       "      <td>1</td>\n",
       "      <td>35.0</td>\n",
       "      <td>0</td>\n",
       "      <td>0</td>\n",
       "      <td>2.202765</td>\n",
       "      <td>2</td>\n",
       "    </tr>\n",
       "  </tbody>\n",
       "</table>\n",
       "</div>"
      ],
      "text/plain": [
       "   PassengerId  Survived  Pclass  Sex   Age  SibSp  Parch      Fare  Embarked\n",
       "0            1       0.0       3    1  22.0      1      0  2.110213         2\n",
       "1            2       1.0       1    0  38.0      1      0  4.280593         0\n",
       "2            3       1.0       3    0  26.0      0      0  2.188856         2\n",
       "3            4       1.0       1    0  35.0      1      0  3.990834         2\n",
       "4            5       0.0       3    1  35.0      0      0  2.202765         2"
      ]
     },
     "execution_count": 41,
     "metadata": {},
     "output_type": "execute_result"
    }
   ],
   "source": [
    "train.head()"
   ]
  },
  {
   "cell_type": "code",
   "execution_count": 42,
   "id": "e3646d16-ef68-4bc0-a7c4-936457b0eae4",
   "metadata": {},
   "outputs": [
    {
     "data": {
      "text/html": [
       "<div>\n",
       "<style scoped>\n",
       "    .dataframe tbody tr th:only-of-type {\n",
       "        vertical-align: middle;\n",
       "    }\n",
       "\n",
       "    .dataframe tbody tr th {\n",
       "        vertical-align: top;\n",
       "    }\n",
       "\n",
       "    .dataframe thead th {\n",
       "        text-align: right;\n",
       "    }\n",
       "</style>\n",
       "<table border=\"1\" class=\"dataframe\">\n",
       "  <thead>\n",
       "    <tr style=\"text-align: right;\">\n",
       "      <th></th>\n",
       "      <th>PassengerId</th>\n",
       "      <th>Survived</th>\n",
       "      <th>Pclass</th>\n",
       "      <th>Sex</th>\n",
       "      <th>Age</th>\n",
       "      <th>SibSp</th>\n",
       "      <th>Parch</th>\n",
       "      <th>Fare</th>\n",
       "      <th>Embarked</th>\n",
       "    </tr>\n",
       "  </thead>\n",
       "  <tbody>\n",
       "    <tr>\n",
       "      <th>891</th>\n",
       "      <td>892</td>\n",
       "      <td>NaN</td>\n",
       "      <td>3</td>\n",
       "      <td>1</td>\n",
       "      <td>34.5</td>\n",
       "      <td>0</td>\n",
       "      <td>0</td>\n",
       "      <td>2.178064</td>\n",
       "      <td>1</td>\n",
       "    </tr>\n",
       "    <tr>\n",
       "      <th>892</th>\n",
       "      <td>893</td>\n",
       "      <td>NaN</td>\n",
       "      <td>3</td>\n",
       "      <td>0</td>\n",
       "      <td>47.0</td>\n",
       "      <td>1</td>\n",
       "      <td>0</td>\n",
       "      <td>2.079442</td>\n",
       "      <td>2</td>\n",
       "    </tr>\n",
       "    <tr>\n",
       "      <th>893</th>\n",
       "      <td>894</td>\n",
       "      <td>NaN</td>\n",
       "      <td>2</td>\n",
       "      <td>1</td>\n",
       "      <td>62.0</td>\n",
       "      <td>0</td>\n",
       "      <td>0</td>\n",
       "      <td>2.369075</td>\n",
       "      <td>1</td>\n",
       "    </tr>\n",
       "    <tr>\n",
       "      <th>894</th>\n",
       "      <td>895</td>\n",
       "      <td>NaN</td>\n",
       "      <td>3</td>\n",
       "      <td>1</td>\n",
       "      <td>27.0</td>\n",
       "      <td>0</td>\n",
       "      <td>0</td>\n",
       "      <td>2.268252</td>\n",
       "      <td>2</td>\n",
       "    </tr>\n",
       "    <tr>\n",
       "      <th>895</th>\n",
       "      <td>896</td>\n",
       "      <td>NaN</td>\n",
       "      <td>3</td>\n",
       "      <td>0</td>\n",
       "      <td>22.0</td>\n",
       "      <td>1</td>\n",
       "      <td>1</td>\n",
       "      <td>2.586824</td>\n",
       "      <td>2</td>\n",
       "    </tr>\n",
       "  </tbody>\n",
       "</table>\n",
       "</div>"
      ],
      "text/plain": [
       "     PassengerId  Survived  Pclass  Sex   Age  SibSp  Parch      Fare  \\\n",
       "891          892       NaN       3    1  34.5      0      0  2.178064   \n",
       "892          893       NaN       3    0  47.0      1      0  2.079442   \n",
       "893          894       NaN       2    1  62.0      0      0  2.369075   \n",
       "894          895       NaN       3    1  27.0      0      0  2.268252   \n",
       "895          896       NaN       3    0  22.0      1      1  2.586824   \n",
       "\n",
       "     Embarked  \n",
       "891         1  \n",
       "892         2  \n",
       "893         1  \n",
       "894         2  \n",
       "895         2  "
      ]
     },
     "execution_count": 42,
     "metadata": {},
     "output_type": "execute_result"
    }
   ],
   "source": [
    "test.head()"
   ]
  },
  {
   "cell_type": "code",
   "execution_count": 43,
   "id": "fdf6bfbd-8a31-429a-a783-3b99a417266d",
   "metadata": {},
   "outputs": [],
   "source": [
    "X = train.drop(columns = ['PassengerId', 'Survived'], axis = 1)\n",
    "y = train['Survived']"
   ]
  },
  {
   "cell_type": "code",
   "execution_count": 44,
   "id": "e20851a1-39f0-4f07-b191-bfc2b05bb828",
   "metadata": {},
   "outputs": [
    {
     "data": {
      "text/html": [
       "<div>\n",
       "<style scoped>\n",
       "    .dataframe tbody tr th:only-of-type {\n",
       "        vertical-align: middle;\n",
       "    }\n",
       "\n",
       "    .dataframe tbody tr th {\n",
       "        vertical-align: top;\n",
       "    }\n",
       "\n",
       "    .dataframe thead th {\n",
       "        text-align: right;\n",
       "    }\n",
       "</style>\n",
       "<table border=\"1\" class=\"dataframe\">\n",
       "  <thead>\n",
       "    <tr style=\"text-align: right;\">\n",
       "      <th></th>\n",
       "      <th>Pclass</th>\n",
       "      <th>Sex</th>\n",
       "      <th>Age</th>\n",
       "      <th>SibSp</th>\n",
       "      <th>Parch</th>\n",
       "      <th>Fare</th>\n",
       "      <th>Embarked</th>\n",
       "    </tr>\n",
       "  </thead>\n",
       "  <tbody>\n",
       "    <tr>\n",
       "      <th>0</th>\n",
       "      <td>3</td>\n",
       "      <td>1</td>\n",
       "      <td>22.0</td>\n",
       "      <td>1</td>\n",
       "      <td>0</td>\n",
       "      <td>2.110213</td>\n",
       "      <td>2</td>\n",
       "    </tr>\n",
       "    <tr>\n",
       "      <th>1</th>\n",
       "      <td>1</td>\n",
       "      <td>0</td>\n",
       "      <td>38.0</td>\n",
       "      <td>1</td>\n",
       "      <td>0</td>\n",
       "      <td>4.280593</td>\n",
       "      <td>0</td>\n",
       "    </tr>\n",
       "    <tr>\n",
       "      <th>2</th>\n",
       "      <td>3</td>\n",
       "      <td>0</td>\n",
       "      <td>26.0</td>\n",
       "      <td>0</td>\n",
       "      <td>0</td>\n",
       "      <td>2.188856</td>\n",
       "      <td>2</td>\n",
       "    </tr>\n",
       "    <tr>\n",
       "      <th>3</th>\n",
       "      <td>1</td>\n",
       "      <td>0</td>\n",
       "      <td>35.0</td>\n",
       "      <td>1</td>\n",
       "      <td>0</td>\n",
       "      <td>3.990834</td>\n",
       "      <td>2</td>\n",
       "    </tr>\n",
       "    <tr>\n",
       "      <th>4</th>\n",
       "      <td>3</td>\n",
       "      <td>1</td>\n",
       "      <td>35.0</td>\n",
       "      <td>0</td>\n",
       "      <td>0</td>\n",
       "      <td>2.202765</td>\n",
       "      <td>2</td>\n",
       "    </tr>\n",
       "  </tbody>\n",
       "</table>\n",
       "</div>"
      ],
      "text/plain": [
       "   Pclass  Sex   Age  SibSp  Parch      Fare  Embarked\n",
       "0       3    1  22.0      1      0  2.110213         2\n",
       "1       1    0  38.0      1      0  4.280593         0\n",
       "2       3    0  26.0      0      0  2.188856         2\n",
       "3       1    0  35.0      1      0  3.990834         2\n",
       "4       3    1  35.0      0      0  2.202765         2"
      ]
     },
     "execution_count": 44,
     "metadata": {},
     "output_type": "execute_result"
    }
   ],
   "source": [
    "X.head()"
   ]
  },
  {
   "cell_type": "markdown",
   "id": "0dae5ade-fb53-43ef-8b4a-ec9ec6ca5b70",
   "metadata": {},
   "source": [
    "# model training"
   ]
  },
  {
   "cell_type": "code",
   "execution_count": 45,
   "id": "eb5ba630-291e-4a46-911a-4648669e6f2b",
   "metadata": {},
   "outputs": [],
   "source": [
    "from sklearn.model_selection import train_test_split, cross_val_score\n",
    "# classify coloumn\n",
    "\n",
    "def classify(model):\n",
    "    X_train, X_test, y_train, y_test = train_test_split(X, y, test_size = 0.25, random_state = 42)\n",
    "    model.fit(X_train, y_train)\n",
    "    print('Accuracy: ', model.score(X_test, y_test))\n",
    "\n",
    "    score = cross_val_score(model, X, y, cv = 5)\n",
    "    print('CV Score: ', np.mean(score))    "
   ]
  },
  {
   "cell_type": "code",
   "execution_count": 46,
   "id": "383ee499-8969-4368-a16f-59c87b90c2b4",
   "metadata": {},
   "outputs": [
    {
     "name": "stdout",
     "output_type": "stream",
     "text": [
      "Accuracy:  0.8071748878923767\n",
      "CV Score:  0.7833971502102819\n"
     ]
    }
   ],
   "source": [
    "from sklearn.linear_model import LogisticRegression\n",
    "model = LogisticRegression()\n",
    "classify(model)"
   ]
  },
  {
   "cell_type": "code",
   "execution_count": 47,
   "id": "9dd27dc7-d4a8-4300-bc53-bd0d77e069dc",
   "metadata": {},
   "outputs": [
    {
     "name": "stdout",
     "output_type": "stream",
     "text": [
      "Accuracy:  0.726457399103139\n",
      "CV Score:  0.7677044755508129\n"
     ]
    }
   ],
   "source": [
    "from sklearn.tree import DecisionTreeClassifier\n",
    "model = DecisionTreeClassifier()\n",
    "classify(model)"
   ]
  },
  {
   "cell_type": "code",
   "execution_count": 48,
   "id": "c88ff742-24da-4eb1-bd0e-01d5b90d3410",
   "metadata": {},
   "outputs": [
    {
     "name": "stdout",
     "output_type": "stream",
     "text": [
      "Accuracy:  0.8026905829596412\n",
      "CV Score:  0.815956311593748\n"
     ]
    }
   ],
   "source": [
    "from sklearn.ensemble import RandomForestClassifier\n",
    "model = RandomForestClassifier()\n",
    "classify(model)\n"
   ]
  },
  {
   "cell_type": "code",
   "execution_count": 51,
   "id": "62fa1e5d-3996-4db0-9586-4cdc8c4f7d7f",
   "metadata": {},
   "outputs": [
    {
     "name": "stdout",
     "output_type": "stream",
     "text": [
      "Collecting xgboost\n",
      "  Obtaining dependency information for xgboost from https://files.pythonhosted.org/packages/32/10/4689bda37403f7dd029d550c4446e0097c2f33b8ae877b235e76d5c49bc2/xgboost-2.0.0-py3-none-win_amd64.whl.metadata\n",
      "  Downloading xgboost-2.0.0-py3-none-win_amd64.whl.metadata (2.0 kB)\n",
      "Requirement already satisfied: numpy in c:\\users\\ilove\\appdata\\local\\programs\\python\\python311\\lib\\site-packages (from xgboost) (1.25.2)\n",
      "Requirement already satisfied: scipy in c:\\users\\ilove\\appdata\\local\\programs\\python\\python311\\lib\\site-packages (from xgboost) (1.11.2)\n",
      "Downloading xgboost-2.0.0-py3-none-win_amd64.whl (99.7 MB)\n",
      "   ---------------------------------------- 0.0/99.7 MB ? eta -:--:--\n",
      "   ---------------------------------------- 0.0/99.7 MB ? eta -:--:--\n",
      "   ---------------------------------------- 0.1/99.7 MB 656.4 kB/s eta 0:02:32\n",
      "   ---------------------------------------- 0.5/99.7 MB 3.8 MB/s eta 0:00:27\n",
      "   ---------------------------------------- 0.9/99.7 MB 5.3 MB/s eta 0:00:19\n",
      "    --------------------------------------- 1.5/99.7 MB 6.9 MB/s eta 0:00:15\n",
      "    --------------------------------------- 2.1/99.7 MB 8.0 MB/s eta 0:00:13\n",
      "   - -------------------------------------- 2.7/99.7 MB 8.6 MB/s eta 0:00:12\n",
      "   - -------------------------------------- 3.4/99.7 MB 9.3 MB/s eta 0:00:11\n",
      "   - -------------------------------------- 4.0/99.7 MB 9.9 MB/s eta 0:00:10\n",
      "   - -------------------------------------- 4.6/99.7 MB 10.1 MB/s eta 0:00:10\n",
      "   -- ------------------------------------- 5.1/99.7 MB 10.1 MB/s eta 0:00:10\n",
      "   -- ------------------------------------- 5.6/99.7 MB 10.2 MB/s eta 0:00:10\n",
      "   -- ------------------------------------- 6.2/99.7 MB 10.4 MB/s eta 0:00:09\n",
      "   -- ------------------------------------- 6.8/99.7 MB 10.5 MB/s eta 0:00:09\n",
      "   -- ------------------------------------- 7.3/99.7 MB 10.4 MB/s eta 0:00:09\n",
      "   --- ------------------------------------ 8.0/99.7 MB 10.8 MB/s eta 0:00:09\n",
      "   --- ------------------------------------ 8.1/99.7 MB 10.7 MB/s eta 0:00:09\n",
      "   --- ------------------------------------ 8.3/99.7 MB 10.0 MB/s eta 0:00:10\n",
      "   --- ------------------------------------ 8.8/99.7 MB 9.8 MB/s eta 0:00:10\n",
      "   --- ------------------------------------ 9.4/99.7 MB 10.2 MB/s eta 0:00:09\n",
      "   --- ------------------------------------ 10.0/99.7 MB 10.3 MB/s eta 0:00:09\n",
      "   ---- ----------------------------------- 10.6/99.7 MB 11.1 MB/s eta 0:00:09\n",
      "   ---- ----------------------------------- 11.1/99.7 MB 11.3 MB/s eta 0:00:08\n",
      "   ---- ----------------------------------- 11.6/99.7 MB 11.3 MB/s eta 0:00:08\n",
      "   ---- ----------------------------------- 12.2/99.7 MB 11.1 MB/s eta 0:00:08\n",
      "   ----- ---------------------------------- 12.7/99.7 MB 11.3 MB/s eta 0:00:08\n",
      "   ----- ---------------------------------- 13.3/99.7 MB 11.1 MB/s eta 0:00:08\n",
      "   ----- ---------------------------------- 14.0/99.7 MB 10.9 MB/s eta 0:00:08\n",
      "   ----- ---------------------------------- 14.3/99.7 MB 11.1 MB/s eta 0:00:08\n",
      "   ------ --------------------------------- 15.1/99.7 MB 11.1 MB/s eta 0:00:08\n",
      "   ------ --------------------------------- 15.7/99.7 MB 11.1 MB/s eta 0:00:08\n",
      "   ------ --------------------------------- 16.2/99.7 MB 11.3 MB/s eta 0:00:08\n",
      "   ------ --------------------------------- 16.8/99.7 MB 11.3 MB/s eta 0:00:08\n",
      "   ------ --------------------------------- 17.4/99.7 MB 11.3 MB/s eta 0:00:08\n",
      "   ------- -------------------------------- 18.0/99.7 MB 11.3 MB/s eta 0:00:08\n",
      "   ------- -------------------------------- 18.5/99.7 MB 11.9 MB/s eta 0:00:07\n",
      "   ------- -------------------------------- 19.1/99.7 MB 12.1 MB/s eta 0:00:07\n",
      "   ------- -------------------------------- 19.7/99.7 MB 11.9 MB/s eta 0:00:07\n",
      "   -------- ------------------------------- 20.3/99.7 MB 11.9 MB/s eta 0:00:07\n",
      "   -------- ------------------------------- 20.8/99.7 MB 11.9 MB/s eta 0:00:07\n",
      "   -------- ------------------------------- 21.4/99.7 MB 11.9 MB/s eta 0:00:07\n",
      "   -------- ------------------------------- 22.0/99.7 MB 11.9 MB/s eta 0:00:07\n",
      "   --------- ------------------------------ 22.5/99.7 MB 11.9 MB/s eta 0:00:07\n",
      "   --------- ------------------------------ 23.1/99.7 MB 12.4 MB/s eta 0:00:07\n",
      "   --------- ------------------------------ 23.7/99.7 MB 12.1 MB/s eta 0:00:07\n",
      "   --------- ------------------------------ 24.3/99.7 MB 12.1 MB/s eta 0:00:07\n",
      "   --------- ------------------------------ 24.8/99.7 MB 12.4 MB/s eta 0:00:07\n",
      "   ---------- ----------------------------- 25.4/99.7 MB 11.9 MB/s eta 0:00:07\n",
      "   ---------- ----------------------------- 26.0/99.7 MB 12.1 MB/s eta 0:00:07\n",
      "   ---------- ----------------------------- 26.6/99.7 MB 12.1 MB/s eta 0:00:07\n",
      "   ---------- ----------------------------- 27.1/99.7 MB 12.1 MB/s eta 0:00:06\n",
      "   ----------- ---------------------------- 27.7/99.7 MB 12.1 MB/s eta 0:00:06\n",
      "   ----------- ---------------------------- 28.2/99.7 MB 12.1 MB/s eta 0:00:06\n",
      "   ----------- ---------------------------- 28.9/99.7 MB 11.9 MB/s eta 0:00:06\n",
      "   ----------- ---------------------------- 29.3/99.7 MB 11.9 MB/s eta 0:00:06\n",
      "   ----------- ---------------------------- 29.9/99.7 MB 12.1 MB/s eta 0:00:06\n",
      "   ------------ --------------------------- 30.5/99.7 MB 12.1 MB/s eta 0:00:06\n",
      "   ------------ --------------------------- 31.0/99.7 MB 12.1 MB/s eta 0:00:06\n",
      "   ------------ --------------------------- 31.6/99.7 MB 11.9 MB/s eta 0:00:06\n",
      "   ------------ --------------------------- 32.2/99.7 MB 11.9 MB/s eta 0:00:06\n",
      "   ------------- -------------------------- 32.8/99.7 MB 11.9 MB/s eta 0:00:06\n",
      "   ------------- -------------------------- 33.4/99.7 MB 11.9 MB/s eta 0:00:06\n",
      "   ------------- -------------------------- 34.0/99.7 MB 11.9 MB/s eta 0:00:06\n",
      "   ------------- -------------------------- 34.5/99.7 MB 11.9 MB/s eta 0:00:06\n",
      "   -------------- ------------------------- 35.1/99.7 MB 11.9 MB/s eta 0:00:06\n",
      "   -------------- ------------------------- 35.6/99.7 MB 11.9 MB/s eta 0:00:06\n",
      "   -------------- ------------------------- 36.2/99.7 MB 12.1 MB/s eta 0:00:06\n",
      "   -------------- ------------------------- 36.8/99.7 MB 12.1 MB/s eta 0:00:06\n",
      "   --------------- ------------------------ 37.4/99.7 MB 12.1 MB/s eta 0:00:06\n",
      "   --------------- ------------------------ 38.0/99.7 MB 12.1 MB/s eta 0:00:06\n",
      "   --------------- ------------------------ 38.7/99.7 MB 12.1 MB/s eta 0:00:06\n",
      "   --------------- ------------------------ 39.2/99.7 MB 12.1 MB/s eta 0:00:05\n",
      "   --------------- ------------------------ 39.8/99.7 MB 12.4 MB/s eta 0:00:05\n",
      "   ---------------- ----------------------- 40.4/99.7 MB 12.4 MB/s eta 0:00:05\n",
      "   ---------------- ----------------------- 40.9/99.7 MB 12.1 MB/s eta 0:00:05\n",
      "   ---------------- ----------------------- 41.6/99.7 MB 12.1 MB/s eta 0:00:05\n",
      "   ---------------- ----------------------- 42.1/99.7 MB 12.4 MB/s eta 0:00:05\n",
      "   ----------------- ---------------------- 42.7/99.7 MB 12.1 MB/s eta 0:00:05\n",
      "   ----------------- ---------------------- 43.2/99.7 MB 12.1 MB/s eta 0:00:05\n",
      "   ----------------- ---------------------- 43.3/99.7 MB 11.9 MB/s eta 0:00:05\n",
      "   ----------------- ---------------------- 44.1/99.7 MB 11.7 MB/s eta 0:00:05\n",
      "   ----------------- ---------------------- 44.6/99.7 MB 11.7 MB/s eta 0:00:05\n",
      "   ------------------ --------------------- 45.1/99.7 MB 11.7 MB/s eta 0:00:05\n",
      "   ------------------ --------------------- 45.6/99.7 MB 11.7 MB/s eta 0:00:05\n",
      "   ------------------ --------------------- 46.0/99.7 MB 11.3 MB/s eta 0:00:05\n",
      "   ------------------ --------------------- 46.3/99.7 MB 11.1 MB/s eta 0:00:05\n",
      "   ------------------ --------------------- 46.7/99.7 MB 10.7 MB/s eta 0:00:05\n",
      "   ------------------ --------------------- 47.1/99.7 MB 10.7 MB/s eta 0:00:05\n",
      "   ------------------- -------------------- 47.7/99.7 MB 10.7 MB/s eta 0:00:05\n",
      "   ------------------- -------------------- 48.1/99.7 MB 10.6 MB/s eta 0:00:05\n",
      "   ------------------- -------------------- 48.7/99.7 MB 10.7 MB/s eta 0:00:05\n",
      "   ------------------- -------------------- 49.2/99.7 MB 10.6 MB/s eta 0:00:05\n",
      "   ------------------- -------------------- 49.8/99.7 MB 10.6 MB/s eta 0:00:05\n",
      "   -------------------- ------------------- 50.4/99.7 MB 10.6 MB/s eta 0:00:05\n",
      "   -------------------- ------------------- 50.9/99.7 MB 10.6 MB/s eta 0:00:05\n",
      "   -------------------- ------------------- 51.5/99.7 MB 10.4 MB/s eta 0:00:05\n",
      "   -------------------- ------------------- 52.0/99.7 MB 10.6 MB/s eta 0:00:05\n",
      "   --------------------- ------------------ 52.6/99.7 MB 10.6 MB/s eta 0:00:05\n",
      "   --------------------- ------------------ 53.1/99.7 MB 10.6 MB/s eta 0:00:05\n",
      "   --------------------- ------------------ 53.5/99.7 MB 10.9 MB/s eta 0:00:05\n",
      "   --------------------- ------------------ 54.1/99.7 MB 10.6 MB/s eta 0:00:05\n",
      "   --------------------- ------------------ 54.6/99.7 MB 10.4 MB/s eta 0:00:05\n",
      "   ---------------------- ----------------- 55.1/99.7 MB 10.6 MB/s eta 0:00:05\n",
      "   ---------------------- ----------------- 55.7/99.7 MB 10.6 MB/s eta 0:00:05\n",
      "   ---------------------- ----------------- 56.2/99.7 MB 10.9 MB/s eta 0:00:04\n",
      "   ---------------------- ----------------- 56.8/99.7 MB 11.3 MB/s eta 0:00:04\n",
      "   ---------------------- ----------------- 57.3/99.7 MB 11.3 MB/s eta 0:00:04\n",
      "   ----------------------- ---------------- 57.8/99.7 MB 11.1 MB/s eta 0:00:04\n",
      "   ----------------------- ---------------- 58.3/99.7 MB 11.3 MB/s eta 0:00:04\n",
      "   ----------------------- ---------------- 58.8/99.7 MB 11.3 MB/s eta 0:00:04\n",
      "   ----------------------- ---------------- 59.3/99.7 MB 11.3 MB/s eta 0:00:04\n",
      "   ----------------------- ---------------- 59.6/99.7 MB 11.1 MB/s eta 0:00:04\n",
      "   ------------------------ --------------- 60.4/99.7 MB 11.1 MB/s eta 0:00:04\n",
      "   ------------------------ --------------- 61.0/99.7 MB 11.3 MB/s eta 0:00:04\n",
      "   ------------------------ --------------- 61.4/99.7 MB 11.1 MB/s eta 0:00:04\n",
      "   ------------------------ --------------- 62.0/99.7 MB 11.1 MB/s eta 0:00:04\n",
      "   ------------------------- -------------- 62.5/99.7 MB 11.1 MB/s eta 0:00:04\n",
      "   ------------------------- -------------- 63.1/99.7 MB 11.1 MB/s eta 0:00:04\n",
      "   ------------------------- -------------- 63.6/99.7 MB 10.9 MB/s eta 0:00:04\n",
      "   ------------------------- -------------- 64.2/99.7 MB 11.3 MB/s eta 0:00:04\n",
      "   ------------------------- -------------- 64.7/99.7 MB 11.1 MB/s eta 0:00:04\n",
      "   -------------------------- ------------- 65.2/99.7 MB 11.1 MB/s eta 0:00:04\n",
      "   -------------------------- ------------- 65.8/99.7 MB 11.3 MB/s eta 0:00:04\n",
      "   -------------------------- ------------- 66.4/99.7 MB 11.3 MB/s eta 0:00:03\n",
      "   -------------------------- ------------- 66.9/99.7 MB 11.1 MB/s eta 0:00:03\n",
      "   --------------------------- ------------ 67.5/99.7 MB 11.5 MB/s eta 0:00:03\n",
      "   --------------------------- ------------ 68.1/99.7 MB 11.3 MB/s eta 0:00:03\n",
      "   --------------------------- ------------ 68.7/99.7 MB 11.5 MB/s eta 0:00:03\n",
      "   --------------------------- ------------ 69.3/99.7 MB 11.5 MB/s eta 0:00:03\n",
      "   --------------------------- ------------ 69.8/99.7 MB 11.5 MB/s eta 0:00:03\n",
      "   ---------------------------- ----------- 70.4/99.7 MB 11.7 MB/s eta 0:00:03\n",
      "   ---------------------------- ----------- 70.9/99.7 MB 11.7 MB/s eta 0:00:03\n",
      "   ---------------------------- ----------- 71.4/99.7 MB 11.7 MB/s eta 0:00:03\n",
      "   ---------------------------- ----------- 72.0/99.7 MB 11.5 MB/s eta 0:00:03\n",
      "   ----------------------------- ---------- 72.6/99.7 MB 11.7 MB/s eta 0:00:03\n",
      "   ----------------------------- ---------- 73.1/99.7 MB 11.7 MB/s eta 0:00:03\n",
      "   ----------------------------- ---------- 73.7/99.7 MB 11.9 MB/s eta 0:00:03\n",
      "   ----------------------------- ---------- 74.3/99.7 MB 11.7 MB/s eta 0:00:03\n",
      "   ------------------------------ --------- 74.8/99.7 MB 11.7 MB/s eta 0:00:03\n",
      "   ------------------------------ --------- 75.4/99.7 MB 11.7 MB/s eta 0:00:03\n",
      "   ------------------------------ --------- 75.8/99.7 MB 11.5 MB/s eta 0:00:03\n",
      "   ------------------------------ --------- 76.4/99.7 MB 11.5 MB/s eta 0:00:03\n",
      "   ------------------------------ --------- 77.0/99.7 MB 11.5 MB/s eta 0:00:02\n",
      "   ------------------------------- -------- 77.5/99.7 MB 11.5 MB/s eta 0:00:02\n",
      "   ------------------------------- -------- 78.1/99.7 MB 11.7 MB/s eta 0:00:02\n",
      "   ------------------------------- -------- 78.6/99.7 MB 11.5 MB/s eta 0:00:02\n",
      "   ------------------------------- -------- 79.3/99.7 MB 11.7 MB/s eta 0:00:02\n",
      "   ------------------------------- -------- 79.7/99.7 MB 11.5 MB/s eta 0:00:02\n",
      "   -------------------------------- ------- 80.2/99.7 MB 11.5 MB/s eta 0:00:02\n",
      "   -------------------------------- ------- 80.3/99.7 MB 10.9 MB/s eta 0:00:02\n",
      "   -------------------------------- ------- 81.2/99.7 MB 11.3 MB/s eta 0:00:02\n",
      "   -------------------------------- ------- 81.8/99.7 MB 11.3 MB/s eta 0:00:02\n",
      "   --------------------------------- ------ 82.4/99.7 MB 11.7 MB/s eta 0:00:02\n",
      "   --------------------------------- ------ 83.0/99.7 MB 11.3 MB/s eta 0:00:02\n",
      "   --------------------------------- ------ 83.5/99.7 MB 11.5 MB/s eta 0:00:02\n",
      "   --------------------------------- ------ 84.1/99.7 MB 11.7 MB/s eta 0:00:02\n",
      "   --------------------------------- ------ 84.6/99.7 MB 11.5 MB/s eta 0:00:02\n",
      "   ---------------------------------- ----- 85.2/99.7 MB 11.5 MB/s eta 0:00:02\n",
      "   ---------------------------------- ----- 85.7/99.7 MB 11.7 MB/s eta 0:00:02\n",
      "   ---------------------------------- ----- 86.3/99.7 MB 11.7 MB/s eta 0:00:02\n",
      "   ---------------------------------- ----- 86.9/99.7 MB 11.7 MB/s eta 0:00:02\n",
      "   ----------------------------------- ---- 87.4/99.7 MB 11.7 MB/s eta 0:00:02\n",
      "   ----------------------------------- ---- 88.0/99.7 MB 11.5 MB/s eta 0:00:02\n",
      "   ----------------------------------- ---- 88.4/99.7 MB 11.5 MB/s eta 0:00:01\n",
      "   ----------------------------------- ---- 88.9/99.7 MB 11.5 MB/s eta 0:00:01\n",
      "   ----------------------------------- ---- 89.5/99.7 MB 11.5 MB/s eta 0:00:01\n",
      "   ------------------------------------ --- 90.1/99.7 MB 11.5 MB/s eta 0:00:01\n",
      "   ------------------------------------ --- 90.6/99.7 MB 12.1 MB/s eta 0:00:01\n",
      "   ------------------------------------ --- 91.0/99.7 MB 11.5 MB/s eta 0:00:01\n",
      "   ------------------------------------ --- 91.3/99.7 MB 11.3 MB/s eta 0:00:01\n",
      "   ------------------------------------ --- 91.7/99.7 MB 10.9 MB/s eta 0:00:01\n",
      "   ------------------------------------ --- 92.2/99.7 MB 10.9 MB/s eta 0:00:01\n",
      "   ------------------------------------- -- 92.7/99.7 MB 10.9 MB/s eta 0:00:01\n",
      "   ------------------------------------- -- 93.1/99.7 MB 10.7 MB/s eta 0:00:01\n",
      "   ------------------------------------- -- 93.7/99.7 MB 10.7 MB/s eta 0:00:01\n",
      "   ------------------------------------- -- 94.2/99.7 MB 10.7 MB/s eta 0:00:01\n",
      "   ------------------------------------- -- 94.2/99.7 MB 10.7 MB/s eta 0:00:01\n",
      "   ------------------------------------- -- 94.2/99.7 MB 10.7 MB/s eta 0:00:01\n",
      "   ------------------------------------- -- 94.3/99.7 MB 9.5 MB/s eta 0:00:01\n",
      "   -------------------------------------- - 94.9/99.7 MB 9.4 MB/s eta 0:00:01\n",
      "   -------------------------------------- - 95.3/99.7 MB 9.2 MB/s eta 0:00:01\n",
      "   -------------------------------------- - 95.9/99.7 MB 9.4 MB/s eta 0:00:01\n",
      "   -------------------------------------- - 96.5/99.7 MB 9.2 MB/s eta 0:00:01\n",
      "   -------------------------------------- - 97.1/99.7 MB 9.2 MB/s eta 0:00:01\n",
      "   ---------------------------------------  97.6/99.7 MB 9.5 MB/s eta 0:00:01\n",
      "   ---------------------------------------  98.2/99.7 MB 9.2 MB/s eta 0:00:01\n",
      "   ---------------------------------------  98.7/99.7 MB 9.4 MB/s eta 0:00:01\n",
      "   ---------------------------------------  99.3/99.7 MB 9.5 MB/s eta 0:00:01\n",
      "   ---------------------------------------  99.7/99.7 MB 9.5 MB/s eta 0:00:01\n",
      "   ---------------------------------------  99.7/99.7 MB 9.5 MB/s eta 0:00:01\n",
      "   ---------------------------------------  99.7/99.7 MB 9.5 MB/s eta 0:00:01\n",
      "   ---------------------------------------  99.7/99.7 MB 9.5 MB/s eta 0:00:01\n",
      "   ---------------------------------------  99.7/99.7 MB 9.5 MB/s eta 0:00:01\n",
      "   ---------------------------------------  99.7/99.7 MB 9.5 MB/s eta 0:00:01\n",
      "   ---------------------------------------  99.7/99.7 MB 9.5 MB/s eta 0:00:01\n",
      "   ---------------------------------------  99.7/99.7 MB 9.5 MB/s eta 0:00:01\n",
      "   ---------------------------------------- 99.7/99.7 MB 6.6 MB/s eta 0:00:00\n",
      "Installing collected packages: xgboost\n",
      "Successfully installed xgboost-2.0.0\n"
     ]
    }
   ],
   "source": [
    "!pip install xgboost"
   ]
  },
  {
   "cell_type": "code",
   "execution_count": 57,
   "id": "8685a45a-5b7c-4e25-8dac-953a7519ba37",
   "metadata": {},
   "outputs": [
    {
     "name": "stdout",
     "output_type": "stream",
     "text": [
      "Accuracy:  0.6188340807174888\n",
      "CV Score:  0.6835289686774214\n"
     ]
    }
   ],
   "source": [
    "from sklearn.svm import SVC\n",
    "model = SVC()\n",
    "classify(model)"
   ]
  },
  {
   "cell_type": "code",
   "execution_count": 58,
   "id": "d4655a4e-008a-4673-b5a5-b6b29cb0fc4c",
   "metadata": {},
   "outputs": [
    {
     "name": "stdout",
     "output_type": "stream",
     "text": [
      "Accuracy:  0.7802690582959642\n",
      "CV Score:  0.7744397715146569\n"
     ]
    }
   ],
   "source": [
    "from sklearn.neighbors import KNeighborsClassifier\n",
    "model = KNeighborsClassifier()\n",
    "classify(model)"
   ]
  },
  {
   "cell_type": "code",
   "execution_count": 54,
   "id": "eb95472c-10ac-4dd3-9a99-ae2b37d3c83a",
   "metadata": {},
   "outputs": [],
   "source": [
    "import xgboost as xgb"
   ]
  },
  {
   "cell_type": "code",
   "execution_count": 59,
   "id": "a54e62d2-d71c-4759-ac1f-ca23b0a8b73f",
   "metadata": {},
   "outputs": [
    {
     "name": "stdout",
     "output_type": "stream",
     "text": [
      "Accuracy:  0.7847533632286996\n",
      "CV Score:  0.8148327160881301\n"
     ]
    }
   ],
   "source": [
    "from xgboost import XGBClassifier\n",
    "model = XGBClassifier()\n",
    "classify(model)"
   ]
  },
  {
   "cell_type": "code",
   "execution_count": 60,
   "id": "5099ecd0-eafb-4b83-9d6e-73ca8110264d",
   "metadata": {},
   "outputs": [
    {
     "name": "stdout",
     "output_type": "stream",
     "text": [
      "Collecting lightgbm\n",
      "  Obtaining dependency information for lightgbm from https://files.pythonhosted.org/packages/b3/f8/ee33e36194eb03a76eccf3adac3fba51f0e56fbd20609bb531659d48d3cb/lightgbm-4.1.0-py3-none-win_amd64.whl.metadata\n",
      "  Downloading lightgbm-4.1.0-py3-none-win_amd64.whl.metadata (19 kB)\n",
      "Collecting catboost\n",
      "  Obtaining dependency information for catboost from https://files.pythonhosted.org/packages/e2/a7/aed402760cde64ca28b7787ad2a63a3f1d2066c2f058b2d974ce5479e32e/catboost-1.2.1.1-cp311-cp311-win_amd64.whl.metadata\n",
      "  Downloading catboost-1.2.1.1-cp311-cp311-win_amd64.whl.metadata (1.2 kB)\n",
      "Requirement already satisfied: numpy in c:\\users\\ilove\\appdata\\local\\programs\\python\\python311\\lib\\site-packages (from lightgbm) (1.25.2)\n",
      "Requirement already satisfied: scipy in c:\\users\\ilove\\appdata\\local\\programs\\python\\python311\\lib\\site-packages (from lightgbm) (1.11.2)\n",
      "Collecting graphviz (from catboost)\n",
      "  Downloading graphviz-0.20.1-py3-none-any.whl (47 kB)\n",
      "     ---------------------------------------- 0.0/47.0 kB ? eta -:--:--\n",
      "     --------------------------------- ---- 41.0/47.0 kB 991.0 kB/s eta 0:00:01\n",
      "     -------------------------------------- 47.0/47.0 kB 782.9 kB/s eta 0:00:00\n",
      "Requirement already satisfied: matplotlib in c:\\users\\ilove\\appdata\\local\\programs\\python\\python311\\lib\\site-packages (from catboost) (3.7.3)\n",
      "Requirement already satisfied: pandas>=0.24 in c:\\users\\ilove\\appdata\\local\\programs\\python\\python311\\lib\\site-packages (from catboost) (2.1.0)\n",
      "Collecting plotly (from catboost)\n",
      "  Obtaining dependency information for plotly from https://files.pythonhosted.org/packages/df/79/c80174d711ee26ee5da55a9cc3e248f1ec7a0188b5e4d6bbbbcd09b974b0/plotly-5.17.0-py2.py3-none-any.whl.metadata\n",
      "  Downloading plotly-5.17.0-py2.py3-none-any.whl.metadata (7.0 kB)\n",
      "Requirement already satisfied: six in c:\\users\\ilove\\appdata\\local\\programs\\python\\python311\\lib\\site-packages (from catboost) (1.16.0)\n",
      "Requirement already satisfied: python-dateutil>=2.8.2 in c:\\users\\ilove\\appdata\\local\\programs\\python\\python311\\lib\\site-packages (from pandas>=0.24->catboost) (2.8.2)\n",
      "Requirement already satisfied: pytz>=2020.1 in c:\\users\\ilove\\appdata\\local\\programs\\python\\python311\\lib\\site-packages (from pandas>=0.24->catboost) (2023.3)\n",
      "Requirement already satisfied: tzdata>=2022.1 in c:\\users\\ilove\\appdata\\local\\programs\\python\\python311\\lib\\site-packages (from pandas>=0.24->catboost) (2023.3)\n",
      "Requirement already satisfied: contourpy>=1.0.1 in c:\\users\\ilove\\appdata\\local\\programs\\python\\python311\\lib\\site-packages (from matplotlib->catboost) (1.1.0)\n",
      "Requirement already satisfied: cycler>=0.10 in c:\\users\\ilove\\appdata\\local\\programs\\python\\python311\\lib\\site-packages (from matplotlib->catboost) (0.11.0)\n",
      "Requirement already satisfied: fonttools>=4.22.0 in c:\\users\\ilove\\appdata\\local\\programs\\python\\python311\\lib\\site-packages (from matplotlib->catboost) (4.42.1)\n",
      "Requirement already satisfied: kiwisolver>=1.0.1 in c:\\users\\ilove\\appdata\\local\\programs\\python\\python311\\lib\\site-packages (from matplotlib->catboost) (1.4.5)\n",
      "Requirement already satisfied: packaging>=20.0 in c:\\users\\ilove\\appdata\\local\\programs\\python\\python311\\lib\\site-packages (from matplotlib->catboost) (23.1)\n",
      "Requirement already satisfied: pillow>=6.2.0 in c:\\users\\ilove\\appdata\\local\\programs\\python\\python311\\lib\\site-packages (from matplotlib->catboost) (10.0.0)\n",
      "Requirement already satisfied: pyparsing>=2.3.1 in c:\\users\\ilove\\appdata\\local\\programs\\python\\python311\\lib\\site-packages (from matplotlib->catboost) (3.1.1)\n",
      "Collecting tenacity>=6.2.0 (from plotly->catboost)\n",
      "  Obtaining dependency information for tenacity>=6.2.0 from https://files.pythonhosted.org/packages/f4/f1/990741d5bb2487d529d20a433210ffa136a367751e454214013b441c4575/tenacity-8.2.3-py3-none-any.whl.metadata\n",
      "  Downloading tenacity-8.2.3-py3-none-any.whl.metadata (1.0 kB)\n",
      "Downloading lightgbm-4.1.0-py3-none-win_amd64.whl (1.3 MB)\n",
      "   ---------------------------------------- 0.0/1.3 MB ? eta -:--:--\n",
      "   ---------- ----------------------------- 0.3/1.3 MB 10.2 MB/s eta 0:00:01\n",
      "   -------------------------- ------------- 0.9/1.3 MB 9.3 MB/s eta 0:00:01\n",
      "   ---------------------------------------  1.3/1.3 MB 10.4 MB/s eta 0:00:01\n",
      "   ---------------------------------------- 1.3/1.3 MB 10.4 MB/s eta 0:00:00\n",
      "Downloading catboost-1.2.1.1-cp311-cp311-win_amd64.whl (101.0 MB)\n",
      "   ---------------------------------------- 0.0/101.0 MB ? eta -:--:--\n",
      "   ---------------------------------------- 0.5/101.0 MB 15.2 MB/s eta 0:00:07\n",
      "   ---------------------------------------- 1.1/101.0 MB 13.9 MB/s eta 0:00:08\n",
      "    --------------------------------------- 1.6/101.0 MB 12.4 MB/s eta 0:00:09\n",
      "    --------------------------------------- 2.2/101.0 MB 12.6 MB/s eta 0:00:08\n",
      "   - -------------------------------------- 2.6/101.0 MB 12.9 MB/s eta 0:00:08\n",
      "   - -------------------------------------- 3.2/101.0 MB 12.7 MB/s eta 0:00:08\n",
      "   - -------------------------------------- 3.8/101.0 MB 12.6 MB/s eta 0:00:08\n",
      "   - -------------------------------------- 4.1/101.0 MB 12.0 MB/s eta 0:00:09\n",
      "   - -------------------------------------- 4.6/101.0 MB 12.4 MB/s eta 0:00:08\n",
      "   -- ------------------------------------- 5.1/101.0 MB 12.0 MB/s eta 0:00:08\n",
      "   -- ------------------------------------- 5.7/101.0 MB 12.1 MB/s eta 0:00:08\n",
      "   -- ------------------------------------- 6.1/101.0 MB 12.2 MB/s eta 0:00:08\n",
      "   -- ------------------------------------- 6.6/101.0 MB 12.0 MB/s eta 0:00:08\n",
      "   -- ------------------------------------- 6.6/101.0 MB 11.4 MB/s eta 0:00:09\n",
      "   -- ------------------------------------- 6.7/101.0 MB 10.5 MB/s eta 0:00:10\n",
      "   -- ------------------------------------- 6.9/101.0 MB 9.9 MB/s eta 0:00:10\n",
      "   -- ------------------------------------- 7.6/101.0 MB 10.3 MB/s eta 0:00:10\n",
      "   --- ------------------------------------ 8.0/101.0 MB 10.3 MB/s eta 0:00:10\n",
      "   --- ------------------------------------ 8.6/101.0 MB 10.4 MB/s eta 0:00:09\n",
      "   --- ------------------------------------ 9.1/101.0 MB 10.5 MB/s eta 0:00:09\n",
      "   --- ------------------------------------ 9.5/101.0 MB 10.7 MB/s eta 0:00:09\n",
      "   --- ------------------------------------ 10.0/101.0 MB 10.7 MB/s eta 0:00:09\n",
      "   ---- ----------------------------------- 10.5/101.0 MB 10.6 MB/s eta 0:00:09\n",
      "   ---- ----------------------------------- 10.9/101.0 MB 10.4 MB/s eta 0:00:09\n",
      "   ---- ----------------------------------- 11.5/101.0 MB 10.4 MB/s eta 0:00:09\n",
      "   ---- ----------------------------------- 12.1/101.0 MB 10.6 MB/s eta 0:00:09\n",
      "   ---- ----------------------------------- 12.6/101.0 MB 10.6 MB/s eta 0:00:09\n",
      "   ----- ---------------------------------- 13.2/101.0 MB 10.6 MB/s eta 0:00:09\n",
      "   ----- ---------------------------------- 13.6/101.0 MB 10.6 MB/s eta 0:00:09\n",
      "   ----- ---------------------------------- 14.2/101.0 MB 10.7 MB/s eta 0:00:09\n",
      "   ------ --------------------------------- 15.3/101.0 MB 10.9 MB/s eta 0:00:08\n",
      "   ------ --------------------------------- 15.9/101.0 MB 10.7 MB/s eta 0:00:08\n",
      "   ------ --------------------------------- 16.4/101.0 MB 10.7 MB/s eta 0:00:08\n",
      "   ------ --------------------------------- 16.9/101.0 MB 11.9 MB/s eta 0:00:08\n",
      "   ------ --------------------------------- 17.4/101.0 MB 12.1 MB/s eta 0:00:07\n",
      "   ------- -------------------------------- 18.0/101.0 MB 12.1 MB/s eta 0:00:07\n",
      "   ------- -------------------------------- 18.5/101.0 MB 12.4 MB/s eta 0:00:07\n",
      "   ------- -------------------------------- 18.9/101.0 MB 12.1 MB/s eta 0:00:07\n",
      "   ------- -------------------------------- 19.9/101.0 MB 12.1 MB/s eta 0:00:07\n",
      "   -------- ------------------------------- 20.4/101.0 MB 12.1 MB/s eta 0:00:07\n",
      "   -------- ------------------------------- 21.2/101.0 MB 12.3 MB/s eta 0:00:07\n",
      "   -------- ------------------------------- 21.7/101.0 MB 12.1 MB/s eta 0:00:07\n",
      "   -------- ------------------------------- 22.2/101.0 MB 12.1 MB/s eta 0:00:07\n",
      "   -------- ------------------------------- 22.7/101.0 MB 12.1 MB/s eta 0:00:07\n",
      "   --------- ------------------------------ 23.3/101.0 MB 11.9 MB/s eta 0:00:07\n",
      "   --------- ------------------------------ 23.7/101.0 MB 11.9 MB/s eta 0:00:07\n",
      "   --------- ------------------------------ 24.2/101.0 MB 12.1 MB/s eta 0:00:07\n",
      "   --------- ------------------------------ 24.8/101.0 MB 11.9 MB/s eta 0:00:07\n",
      "   ---------- ----------------------------- 25.4/101.0 MB 11.7 MB/s eta 0:00:07\n",
      "   ---------- ----------------------------- 25.9/101.0 MB 11.9 MB/s eta 0:00:07\n",
      "   ---------- ----------------------------- 26.3/101.0 MB 11.7 MB/s eta 0:00:07\n",
      "   ---------- ----------------------------- 26.8/101.0 MB 11.7 MB/s eta 0:00:07\n",
      "   ---------- ----------------------------- 27.3/101.0 MB 11.5 MB/s eta 0:00:07\n",
      "   ----------- ---------------------------- 27.8/101.0 MB 11.5 MB/s eta 0:00:07\n",
      "   ----------- ---------------------------- 28.4/101.0 MB 11.7 MB/s eta 0:00:07\n",
      "   ----------- ---------------------------- 28.8/101.0 MB 11.5 MB/s eta 0:00:07\n",
      "   ----------- ---------------------------- 29.3/101.0 MB 11.7 MB/s eta 0:00:07\n",
      "   ----------- ---------------------------- 29.9/101.0 MB 11.9 MB/s eta 0:00:06\n",
      "   ------------ --------------------------- 30.4/101.0 MB 11.7 MB/s eta 0:00:07\n",
      "   ------------ --------------------------- 30.8/101.0 MB 11.7 MB/s eta 0:00:07\n",
      "   ------------ --------------------------- 31.4/101.0 MB 11.5 MB/s eta 0:00:07\n",
      "   ------------ --------------------------- 31.9/101.0 MB 11.5 MB/s eta 0:00:07\n",
      "   ------------ --------------------------- 32.5/101.0 MB 11.7 MB/s eta 0:00:06\n",
      "   ------------- -------------------------- 33.0/101.0 MB 11.5 MB/s eta 0:00:06\n",
      "   ------------- -------------------------- 33.6/101.0 MB 11.7 MB/s eta 0:00:06\n",
      "   ------------- -------------------------- 34.0/101.0 MB 11.5 MB/s eta 0:00:06\n",
      "   ------------- -------------------------- 34.7/101.0 MB 11.5 MB/s eta 0:00:06\n",
      "   ------------- -------------------------- 35.2/101.0 MB 11.7 MB/s eta 0:00:06\n",
      "   -------------- ------------------------- 35.7/101.0 MB 11.5 MB/s eta 0:00:06\n",
      "   -------------- ------------------------- 36.3/101.0 MB 11.5 MB/s eta 0:00:06\n",
      "   -------------- ------------------------- 36.9/101.0 MB 11.7 MB/s eta 0:00:06\n",
      "   -------------- ------------------------- 37.5/101.0 MB 11.9 MB/s eta 0:00:06\n",
      "   --------------- ------------------------ 38.0/101.0 MB 11.7 MB/s eta 0:00:06\n",
      "   --------------- ------------------------ 38.5/101.0 MB 11.7 MB/s eta 0:00:06\n",
      "   --------------- ------------------------ 39.0/101.0 MB 11.5 MB/s eta 0:00:06\n",
      "   --------------- ------------------------ 39.6/101.0 MB 11.7 MB/s eta 0:00:06\n",
      "   --------------- ------------------------ 40.1/101.0 MB 11.5 MB/s eta 0:00:06\n",
      "   ---------------- ----------------------- 40.6/101.0 MB 11.7 MB/s eta 0:00:06\n",
      "   ---------------- ----------------------- 41.1/101.0 MB 11.7 MB/s eta 0:00:06\n",
      "   ---------------- ----------------------- 41.5/101.0 MB 11.7 MB/s eta 0:00:06\n",
      "   ---------------- ----------------------- 42.0/101.0 MB 11.7 MB/s eta 0:00:06\n",
      "   ---------------- ----------------------- 42.3/101.0 MB 11.3 MB/s eta 0:00:06\n",
      "   ----------------- ---------------------- 43.0/101.0 MB 11.7 MB/s eta 0:00:05\n",
      "   ----------------- ---------------------- 43.4/101.0 MB 11.5 MB/s eta 0:00:06\n",
      "   ----------------- ---------------------- 43.9/101.0 MB 11.3 MB/s eta 0:00:06\n",
      "   ----------------- ---------------------- 44.4/101.0 MB 11.5 MB/s eta 0:00:05\n",
      "   ----------------- ---------------------- 44.9/101.0 MB 11.5 MB/s eta 0:00:05\n",
      "   ------------------ --------------------- 45.5/101.0 MB 11.5 MB/s eta 0:00:05\n",
      "   ------------------ --------------------- 46.0/101.0 MB 11.7 MB/s eta 0:00:05\n",
      "   ------------------ --------------------- 46.5/101.0 MB 11.7 MB/s eta 0:00:05\n",
      "   ------------------ --------------------- 47.0/101.0 MB 11.7 MB/s eta 0:00:05\n",
      "   ------------------ --------------------- 47.6/101.0 MB 11.5 MB/s eta 0:00:05\n",
      "   ------------------ --------------------- 47.8/101.0 MB 11.5 MB/s eta 0:00:05\n",
      "   ------------------ --------------------- 47.9/101.0 MB 10.7 MB/s eta 0:00:05\n",
      "   ------------------- -------------------- 48.1/101.0 MB 10.6 MB/s eta 0:00:06\n",
      "   ------------------- -------------------- 48.4/101.0 MB 10.2 MB/s eta 0:00:06\n",
      "   ------------------- -------------------- 48.5/101.0 MB 9.9 MB/s eta 0:00:06\n",
      "   ------------------- -------------------- 48.7/101.0 MB 9.6 MB/s eta 0:00:06\n",
      "   ------------------- -------------------- 49.2/101.0 MB 9.8 MB/s eta 0:00:06\n",
      "   ------------------- -------------------- 49.7/101.0 MB 9.5 MB/s eta 0:00:06\n",
      "   ------------------- -------------------- 50.3/101.0 MB 9.8 MB/s eta 0:00:06\n",
      "   -------------------- ------------------- 50.8/101.0 MB 9.6 MB/s eta 0:00:06\n",
      "   -------------------- ------------------- 51.3/101.0 MB 9.6 MB/s eta 0:00:06\n",
      "   -------------------- ------------------- 51.8/101.0 MB 9.8 MB/s eta 0:00:06\n",
      "   -------------------- ------------------- 52.3/101.0 MB 9.8 MB/s eta 0:00:05\n",
      "   -------------------- ------------------- 52.8/101.0 MB 9.8 MB/s eta 0:00:05\n",
      "   --------------------- ------------------ 53.3/101.0 MB 9.8 MB/s eta 0:00:05\n",
      "   --------------------- ------------------ 53.6/101.0 MB 9.6 MB/s eta 0:00:05\n",
      "   --------------------- ------------------ 53.8/101.0 MB 9.5 MB/s eta 0:00:05\n",
      "   --------------------- ------------------ 54.1/101.0 MB 9.2 MB/s eta 0:00:06\n",
      "   --------------------- ------------------ 54.8/101.0 MB 9.2 MB/s eta 0:00:06\n",
      "   --------------------- ------------------ 55.2/101.0 MB 9.2 MB/s eta 0:00:05\n",
      "   ---------------------- ----------------- 55.7/101.0 MB 9.2 MB/s eta 0:00:05\n",
      "   ---------------------- ----------------- 55.9/101.0 MB 9.0 MB/s eta 0:00:06\n",
      "   ---------------------- ----------------- 56.1/101.0 MB 8.8 MB/s eta 0:00:06\n",
      "   ---------------------- ----------------- 56.5/101.0 MB 8.7 MB/s eta 0:00:06\n",
      "   ---------------------- ----------------- 56.9/101.0 MB 8.6 MB/s eta 0:00:06\n",
      "   ---------------------- ----------------- 57.5/101.0 MB 8.7 MB/s eta 0:00:05\n",
      "   ---------------------- ----------------- 58.1/101.0 MB 8.8 MB/s eta 0:00:05\n",
      "   ----------------------- ---------------- 58.6/101.0 MB 9.8 MB/s eta 0:00:05\n",
      "   ----------------------- ---------------- 59.2/101.0 MB 10.1 MB/s eta 0:00:05\n",
      "   ----------------------- ---------------- 59.7/101.0 MB 10.1 MB/s eta 0:00:05\n",
      "   ----------------------- ---------------- 60.3/101.0 MB 10.1 MB/s eta 0:00:05\n",
      "   ------------------------ --------------- 60.8/101.0 MB 10.1 MB/s eta 0:00:04\n",
      "   ------------------------ --------------- 61.2/101.0 MB 10.1 MB/s eta 0:00:04\n",
      "   ------------------------ --------------- 61.7/101.0 MB 10.1 MB/s eta 0:00:04\n",
      "   ------------------------ --------------- 62.0/101.0 MB 9.8 MB/s eta 0:00:04\n",
      "   ------------------------ --------------- 62.5/101.0 MB 9.9 MB/s eta 0:00:04\n",
      "   ------------------------ --------------- 63.1/101.0 MB 9.8 MB/s eta 0:00:04\n",
      "   ------------------------- -------------- 63.4/101.0 MB 9.8 MB/s eta 0:00:04\n",
      "   ------------------------- -------------- 64.1/101.0 MB 10.6 MB/s eta 0:00:04\n",
      "   ------------------------- -------------- 64.5/101.0 MB 10.4 MB/s eta 0:00:04\n",
      "   ------------------------- -------------- 65.0/101.0 MB 10.6 MB/s eta 0:00:04\n",
      "   ------------------------- -------------- 65.5/101.0 MB 10.4 MB/s eta 0:00:04\n",
      "   -------------------------- ------------- 66.0/101.0 MB 10.6 MB/s eta 0:00:04\n",
      "   -------------------------- ------------- 66.6/101.0 MB 11.3 MB/s eta 0:00:04\n",
      "   -------------------------- ------------- 67.0/101.0 MB 11.1 MB/s eta 0:00:04\n",
      "   -------------------------- ------------- 67.5/101.0 MB 11.1 MB/s eta 0:00:04\n",
      "   -------------------------- ------------- 68.1/101.0 MB 11.1 MB/s eta 0:00:03\n",
      "   --------------------------- ------------ 68.7/101.0 MB 11.1 MB/s eta 0:00:03\n",
      "   --------------------------- ------------ 69.2/101.0 MB 11.3 MB/s eta 0:00:03\n",
      "   --------------------------- ------------ 69.7/101.0 MB 11.1 MB/s eta 0:00:03\n",
      "   --------------------------- ------------ 70.2/101.0 MB 11.1 MB/s eta 0:00:03\n",
      "   --------------------------- ------------ 70.5/101.0 MB 11.1 MB/s eta 0:00:03\n",
      "   ---------------------------- ----------- 71.2/101.0 MB 11.1 MB/s eta 0:00:03\n",
      "   ---------------------------- ----------- 71.6/101.0 MB 11.3 MB/s eta 0:00:03\n",
      "   ---------------------------- ----------- 72.2/101.0 MB 11.5 MB/s eta 0:00:03\n",
      "   ---------------------------- ----------- 72.7/101.0 MB 11.1 MB/s eta 0:00:03\n",
      "   ---------------------------- ----------- 73.2/101.0 MB 11.1 MB/s eta 0:00:03\n",
      "   ----------------------------- ---------- 73.8/101.0 MB 11.3 MB/s eta 0:00:03\n",
      "   ----------------------------- ---------- 74.2/101.0 MB 11.3 MB/s eta 0:00:03\n",
      "   ----------------------------- ---------- 74.7/101.0 MB 11.1 MB/s eta 0:00:03\n",
      "   ----------------------------- ---------- 75.3/101.0 MB 11.3 MB/s eta 0:00:03\n",
      "   ------------------------------ --------- 75.8/101.0 MB 11.3 MB/s eta 0:00:03\n",
      "   ------------------------------ --------- 76.3/101.0 MB 11.3 MB/s eta 0:00:03\n",
      "   ------------------------------ --------- 76.8/101.0 MB 11.1 MB/s eta 0:00:03\n",
      "   ------------------------------ --------- 77.3/101.0 MB 11.3 MB/s eta 0:00:03\n",
      "   ------------------------------ --------- 77.7/101.0 MB 11.1 MB/s eta 0:00:03\n",
      "   ------------------------------- -------- 78.3/101.0 MB 11.1 MB/s eta 0:00:03\n",
      "   ------------------------------- -------- 78.9/101.0 MB 11.1 MB/s eta 0:00:02\n",
      "   ------------------------------- -------- 79.3/101.0 MB 11.3 MB/s eta 0:00:02\n",
      "   ------------------------------- -------- 79.8/101.0 MB 11.1 MB/s eta 0:00:02\n",
      "   ------------------------------- -------- 80.4/101.0 MB 11.1 MB/s eta 0:00:02\n",
      "   -------------------------------- ------- 80.9/101.0 MB 11.5 MB/s eta 0:00:02\n",
      "   -------------------------------- ------- 81.4/101.0 MB 11.1 MB/s eta 0:00:02\n",
      "   -------------------------------- ------- 81.9/101.0 MB 11.3 MB/s eta 0:00:02\n",
      "   -------------------------------- ------- 82.5/101.0 MB 11.3 MB/s eta 0:00:02\n",
      "   -------------------------------- ------- 83.0/101.0 MB 11.1 MB/s eta 0:00:02\n",
      "   --------------------------------- ------ 83.5/101.0 MB 11.3 MB/s eta 0:00:02\n",
      "   --------------------------------- ------ 83.8/101.0 MB 10.9 MB/s eta 0:00:02\n",
      "   --------------------------------- ------ 84.3/101.0 MB 10.7 MB/s eta 0:00:02\n",
      "   --------------------------------- ------ 84.8/101.0 MB 11.1 MB/s eta 0:00:02\n",
      "   --------------------------------- ------ 85.4/101.0 MB 11.1 MB/s eta 0:00:02\n",
      "   --------------------------------- ------ 85.7/101.0 MB 10.9 MB/s eta 0:00:02\n",
      "   ---------------------------------- ----- 86.3/101.0 MB 10.9 MB/s eta 0:00:02\n",
      "   ---------------------------------- ----- 86.7/101.0 MB 10.9 MB/s eta 0:00:02\n",
      "   ---------------------------------- ----- 87.2/101.0 MB 10.9 MB/s eta 0:00:02\n",
      "   ---------------------------------- ----- 87.7/101.0 MB 10.9 MB/s eta 0:00:02\n",
      "   ---------------------------------- ----- 88.3/101.0 MB 10.9 MB/s eta 0:00:02\n",
      "   ----------------------------------- ---- 88.7/101.0 MB 11.1 MB/s eta 0:00:02\n",
      "   ----------------------------------- ---- 89.3/101.0 MB 10.9 MB/s eta 0:00:02\n",
      "   ----------------------------------- ---- 89.8/101.0 MB 11.1 MB/s eta 0:00:02\n",
      "   ----------------------------------- ---- 90.1/101.0 MB 10.9 MB/s eta 0:00:01\n",
      "   ----------------------------------- ---- 90.6/101.0 MB 11.1 MB/s eta 0:00:01\n",
      "   ------------------------------------ --- 91.1/101.0 MB 10.9 MB/s eta 0:00:01\n",
      "   ------------------------------------ --- 91.6/101.0 MB 10.9 MB/s eta 0:00:01\n",
      "   ------------------------------------ --- 92.1/101.0 MB 10.9 MB/s eta 0:00:01\n",
      "   ------------------------------------ --- 92.5/101.0 MB 10.7 MB/s eta 0:00:01\n",
      "   ------------------------------------ --- 92.9/101.0 MB 10.6 MB/s eta 0:00:01\n",
      "   ------------------------------------ --- 93.4/101.0 MB 10.7 MB/s eta 0:00:01\n",
      "   ------------------------------------- -- 93.9/101.0 MB 10.6 MB/s eta 0:00:01\n",
      "   ------------------------------------- -- 94.3/101.0 MB 10.9 MB/s eta 0:00:01\n",
      "   ------------------------------------- -- 94.4/101.0 MB 10.9 MB/s eta 0:00:01\n",
      "   ------------------------------------- -- 95.2/101.0 MB 10.7 MB/s eta 0:00:01\n",
      "   ------------------------------------- -- 95.7/101.0 MB 10.7 MB/s eta 0:00:01\n",
      "   -------------------------------------- - 96.2/101.0 MB 10.9 MB/s eta 0:00:01\n",
      "   -------------------------------------- - 96.6/101.0 MB 10.7 MB/s eta 0:00:01\n",
      "   -------------------------------------- - 97.2/101.0 MB 10.9 MB/s eta 0:00:01\n",
      "   -------------------------------------- - 97.6/101.0 MB 10.7 MB/s eta 0:00:01\n",
      "   -------------------------------------- - 98.1/101.0 MB 10.7 MB/s eta 0:00:01\n",
      "   ---------------------------------------  98.5/101.0 MB 10.7 MB/s eta 0:00:01\n",
      "   ---------------------------------------  98.8/101.0 MB 10.4 MB/s eta 0:00:01\n",
      "   ---------------------------------------  99.3/101.0 MB 10.6 MB/s eta 0:00:01\n",
      "   ---------------------------------------  99.7/101.0 MB 10.2 MB/s eta 0:00:01\n",
      "   --------------------------------------  100.1/101.0 MB 10.2 MB/s eta 0:00:01\n",
      "   --------------------------------------  100.4/101.0 MB 10.2 MB/s eta 0:00:01\n",
      "   ---------------------------------------  100.7/101.0 MB 9.9 MB/s eta 0:00:01\n",
      "   ---------------------------------------  101.0/101.0 MB 9.6 MB/s eta 0:00:01\n",
      "   ---------------------------------------  101.0/101.0 MB 9.6 MB/s eta 0:00:01\n",
      "   ---------------------------------------  101.0/101.0 MB 9.6 MB/s eta 0:00:01\n",
      "   ---------------------------------------  101.0/101.0 MB 9.6 MB/s eta 0:00:01\n",
      "   ---------------------------------------  101.0/101.0 MB 9.6 MB/s eta 0:00:01\n",
      "   ---------------------------------------  101.0/101.0 MB 9.6 MB/s eta 0:00:01\n",
      "   ---------------------------------------  101.0/101.0 MB 9.6 MB/s eta 0:00:01\n",
      "   ---------------------------------------  101.0/101.0 MB 9.6 MB/s eta 0:00:01\n",
      "   ---------------------------------------  101.0/101.0 MB 9.6 MB/s eta 0:00:01\n",
      "   ---------------------------------------- 101.0/101.0 MB 6.7 MB/s eta 0:00:00\n",
      "Downloading plotly-5.17.0-py2.py3-none-any.whl (15.6 MB)\n",
      "   ---------------------------------------- 0.0/15.6 MB ? eta -:--:--\n",
      "    --------------------------------------- 0.2/15.6 MB 6.3 MB/s eta 0:00:03\n",
      "   - -------------------------------------- 0.6/15.6 MB 6.5 MB/s eta 0:00:03\n",
      "   -- ------------------------------------- 1.0/15.6 MB 7.3 MB/s eta 0:00:02\n",
      "   --- ------------------------------------ 1.4/15.6 MB 7.4 MB/s eta 0:00:02\n",
      "   ---- ----------------------------------- 1.9/15.6 MB 8.3 MB/s eta 0:00:02\n",
      "   ----- ---------------------------------- 2.3/15.6 MB 8.1 MB/s eta 0:00:02\n",
      "   ------- -------------------------------- 2.8/15.6 MB 8.6 MB/s eta 0:00:02\n",
      "   -------- ------------------------------- 3.3/15.6 MB 9.1 MB/s eta 0:00:02\n",
      "   --------- ------------------------------ 3.7/15.6 MB 9.0 MB/s eta 0:00:02\n",
      "   ---------- ----------------------------- 4.2/15.6 MB 9.3 MB/s eta 0:00:02\n",
      "   ------------ --------------------------- 4.7/15.6 MB 9.4 MB/s eta 0:00:02\n",
      "   ------------- -------------------------- 5.3/15.6 MB 9.6 MB/s eta 0:00:02\n",
      "   -------------- ------------------------- 5.7/15.6 MB 9.6 MB/s eta 0:00:02\n",
      "   --------------- ------------------------ 6.2/15.6 MB 9.6 MB/s eta 0:00:01\n",
      "   ---------------- ----------------------- 6.6/15.6 MB 9.5 MB/s eta 0:00:01\n",
      "   ----------------- ---------------------- 7.0/15.6 MB 9.7 MB/s eta 0:00:01\n",
      "   ------------------ --------------------- 7.2/15.6 MB 9.8 MB/s eta 0:00:01\n",
      "   -------------------- ------------------- 7.9/15.6 MB 9.7 MB/s eta 0:00:01\n",
      "   --------------------- ------------------ 8.4/15.6 MB 9.6 MB/s eta 0:00:01\n",
      "   ---------------------- ----------------- 8.9/15.6 MB 9.9 MB/s eta 0:00:01\n",
      "   ------------------------ --------------- 9.5/15.6 MB 9.7 MB/s eta 0:00:01\n",
      "   ------------------------- -------------- 9.9/15.6 MB 9.8 MB/s eta 0:00:01\n",
      "   -------------------------- ------------- 10.5/15.6 MB 10.1 MB/s eta 0:00:01\n",
      "   ---------------------------- ----------- 11.0/15.6 MB 10.2 MB/s eta 0:00:01\n",
      "   ----------------------------- ---------- 11.4/15.6 MB 10.4 MB/s eta 0:00:01\n",
      "   ------------------------------ --------- 12.0/15.6 MB 10.4 MB/s eta 0:00:01\n",
      "   ------------------------------- -------- 12.3/15.6 MB 10.4 MB/s eta 0:00:01\n",
      "   -------------------------------- ------- 12.8/15.6 MB 10.2 MB/s eta 0:00:01\n",
      "   --------------------------------- ------ 13.2/15.6 MB 10.2 MB/s eta 0:00:01\n",
      "   ----------------------------------- ---- 13.7/15.6 MB 10.1 MB/s eta 0:00:01\n",
      "   ------------------------------------ --- 14.2/15.6 MB 10.1 MB/s eta 0:00:01\n",
      "   ------------------------------------- -- 14.6/15.6 MB 9.9 MB/s eta 0:00:01\n",
      "   -------------------------------------- - 15.1/15.6 MB 10.1 MB/s eta 0:00:01\n",
      "   ---------------------------------------  15.6/15.6 MB 10.2 MB/s eta 0:00:01\n",
      "   ---------------------------------------- 15.6/15.6 MB 9.6 MB/s eta 0:00:00\n",
      "Downloading tenacity-8.2.3-py3-none-any.whl (24 kB)\n",
      "Installing collected packages: tenacity, graphviz, plotly, lightgbm, catboost\n",
      "Successfully installed catboost-1.2.1.1 graphviz-0.20.1 lightgbm-4.1.0 plotly-5.17.0 tenacity-8.2.3\n"
     ]
    }
   ],
   "source": [
    "!pip install lightgbm catboost"
   ]
  },
  {
   "cell_type": "code",
   "execution_count": 61,
   "id": "44e7907e-927d-4445-acc7-0520f320ef3a",
   "metadata": {},
   "outputs": [],
   "source": [
    "from lightgbm import LGBMClassifier\n",
    "from catboost import CatBoostClassifier"
   ]
  },
  {
   "cell_type": "code",
   "execution_count": 67,
   "id": "69e014a9-dd57-444d-8fe4-1bdaed409099",
   "metadata": {},
   "outputs": [
    {
     "name": "stdout",
     "output_type": "stream",
     "text": [
      "Accuracy:  0.8116591928251121\n",
      "CV Score:  0.8238277572029377\n"
     ]
    }
   ],
   "source": [
    "from lightgbm import LGBMClassifier\n",
    "model = LGBMClassifier(verbose = -1)\n",
    "classify(model)"
   ]
  },
  {
   "cell_type": "code",
   "execution_count": 65,
   "id": "2518efe2-9c65-42d7-bd5d-bd79a2042927",
   "metadata": {},
   "outputs": [
    {
     "name": "stdout",
     "output_type": "stream",
     "text": [
      "Accuracy:  0.8295964125560538\n",
      "CV Score:  0.8226790534178645\n"
     ]
    }
   ],
   "source": [
    "from catboost import CatBoostClassifier\n",
    "model = CatBoostClassifier(verbose = 0)\n",
    "classify(model)"
   ]
  },
  {
   "cell_type": "code",
   "execution_count": null,
   "id": "a627e4dc-ed7c-43b0-ad38-55c9b8243bde",
   "metadata": {},
   "outputs": [],
   "source": []
  }
 ],
 "metadata": {
  "kernelspec": {
   "display_name": "Python 3 (ipykernel)",
   "language": "python",
   "name": "python3"
  },
  "language_info": {
   "codemirror_mode": {
    "name": "ipython",
    "version": 3
   },
   "file_extension": ".py",
   "mimetype": "text/x-python",
   "name": "python",
   "nbconvert_exporter": "python",
   "pygments_lexer": "ipython3",
   "version": "3.11.5"
  }
 },
 "nbformat": 4,
 "nbformat_minor": 5
}
